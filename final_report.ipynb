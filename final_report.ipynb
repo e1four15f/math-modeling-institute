{
 "cells": [
  {
   "cell_type": "code",
   "execution_count": 5,
   "metadata": {},
   "outputs": [],
   "source": [
    "import pandas as pd"
   ]
  },
  {
   "cell_type": "code",
   "execution_count": 47,
   "metadata": {},
   "outputs": [],
   "source": [
    "import re\n",
    "\n",
    "import matplotlib.pyplot as plt\n",
    "import seaborn as sns\n",
    "import pandas as pd\n",
    "import pymorphy2\n",
    "import razdel\n",
    "\n",
    "\n",
    "morph = pymorphy2.MorphAnalyzer()"
   ]
  },
  {
   "cell_type": "code",
   "execution_count": 3,
   "metadata": {},
   "outputs": [
    {
     "data": {
      "text/plain": [
       "(7732, 3)"
      ]
     },
     "execution_count": 3,
     "metadata": {},
     "output_type": "execute_result"
    }
   ],
   "source": [
    "train = pd.read_json('../train.json')\n",
    "train = train[train.text.str.len() < 10000]\n",
    "train.shape"
   ]
  },
  {
   "cell_type": "code",
   "execution_count": 26,
   "metadata": {},
   "outputs": [
    {
     "data": {
      "image/png": "[encoded data removed]",
      "text/plain": [
       "<Figure size 720x360 with 1 Axes>"
      ]
     },
     "metadata": {},
     "output_type": "display_data"
    }
   ],
   "source": [
    "sns.set(style=\"darkgrid\")\n",
    "plt.figure(figsize=(10, 5))\n",
    "ax = sns.countplot(x=\"sentiment\", data=train)\n",
    "ax.set(xlabel='Оценка новости', ylabel='Количество примеров');"
   ]
  },
  {
   "cell_type": "code",
   "execution_count": 3,
   "metadata": {},
   "outputs": [
    {
     "name": "stderr",
     "output_type": "stream",
     "text": [
      "100%|██████████| 7732/7732 [03:56<00:00, 41.18it/s]\n"
     ]
    }
   ],
   "source": [
    "from multiprocessing import Pool\n",
    "from tqdm import tqdm\n",
    "\n",
    "\n",
    "def _foo(x):\n",
    "    return ' '.join([\n",
    "        morph.parse(token.text)[0].normal_form \n",
    "        for token in razdel.tokenize(re.sub(r'[^а-ё ]', ' ', x.lower()))\n",
    "    ])\n",
    "\n",
    "\n",
    "with Pool(8) as p:\n",
    "    texts = list(tqdm(p.imap(_foo, train.text.values), total=len(train)))"
   ]
  },
  {
   "cell_type": "code",
   "execution_count": 4,
   "metadata": {},
   "outputs": [],
   "source": [
    "train['text_prep'] = texts"
   ]
  },
  {
   "cell_type": "code",
   "execution_count": 6,
   "metadata": {},
   "outputs": [],
   "source": [
    "train = pd.read_csv('../train_prep.csv')"
   ]
  },
  {
   "cell_type": "code",
   "execution_count": 5,
   "metadata": {},
   "outputs": [],
   "source": [
    "negative = train[train.sentiment == 'negative']\n",
    "positive = train[train.sentiment == 'positive']\n",
    "neutral = train[train.sentiment == 'neutral']"
   ]
  },
  {
   "cell_type": "code",
   "execution_count": 6,
   "metadata": {},
   "outputs": [],
   "source": [
    "negative_freq = negative.text_prep.str.split(expand=True).stack().value_counts()\n",
    "positive_freq = positive.text_prep.str.split(expand=True).stack().value_counts()\n",
    "neutral_freq = neutral.text_prep.str.split(expand=True).stack().value_counts()"
   ]
  },
  {
   "cell_type": "code",
   "execution_count": 7,
   "metadata": {},
   "outputs": [],
   "source": [
    "negative_set = set(negative_freq.index)\n",
    "positive_set = set(positive_freq.index)\n",
    "neutral_set = set(neutral_freq.index)"
   ]
  },
  {
   "cell_type": "code",
   "execution_count": 8,
   "metadata": {},
   "outputs": [],
   "source": [
    "negative_words = set(negative_freq.index) - set(positive_freq.index)\n",
    "positive_words = set(positive_freq.index) - set(negative_freq.index)\n",
    "neutral_words = set(neutral_freq.index)"
   ]
  },
  {
   "cell_type": "code",
   "execution_count": 9,
   "metadata": {},
   "outputs": [
    {
     "name": "stdout",
     "output_type": "stream",
     "text": [
      "Плохие слова\n"
     ]
    },
    {
     "data": {
      "text/plain": [
       "терентьев           113\n",
       "акжаркын             83\n",
       "нацбюро              70\n",
       "экстраординарный     69\n",
       "анарбай              59\n",
       "галим                50\n",
       "аймагамбет           50\n",
       "саранский            45\n",
       "джакуп               41\n",
       "бахт                 40\n",
       "лоббирование         38\n",
       "санкционировать      35\n",
       "дильрух              33\n",
       "сарий                33\n",
       "айтимбет             32\n",
       "оштрафовать          30\n",
       "керосин              29\n",
       "взяточничество       29\n",
       "дутбаев              27\n",
       "твориться            27\n",
       "болашакер            26\n",
       "махинация            26\n",
       "самоподжог           24\n",
       "жанбосынов           24\n",
       "невиновность         24\n",
       "арестованный         24\n",
       "отбывание            24\n",
       "исправительный       23\n",
       "халатность           23\n",
       "выговор              22\n",
       "санкционирование     21\n",
       "подзащитный          21\n",
       "тюремный             21\n",
       "ффк                  21\n",
       "возмущаться          20\n",
       "категорически        20\n",
       "вирус                20\n",
       "вернал               20\n",
       "поймать              20\n",
       "перепечатка          19\n",
       "блоха                19\n",
       "улюкай               19\n",
       "никифоров            19\n",
       "митин                19\n",
       "лавина               19\n",
       "накладка             19\n",
       "чекист               19\n",
       "выясняться           18\n",
       "задолжать            18\n",
       "онк                  18\n",
       "dtype: int64"
      ]
     },
     "execution_count": 9,
     "metadata": {},
     "output_type": "execute_result"
    }
   ],
   "source": [
    "print('Плохие слова')\n",
    "negative_freq[negative_freq.index.isin(negative_words)][:50]"
   ]
  },
  {
   "cell_type": "code",
   "execution_count": 10,
   "metadata": {},
   "outputs": [
    {
     "name": "stdout",
     "output_type": "stream",
     "text": [
      "Хорошие слова\n"
     ]
    },
    {
     "data": {
      "text/plain": [
       "делегация          156\n",
       "физкульт           143\n",
       "мельниченко        121\n",
       "корабль            121\n",
       "шёлковый           113\n",
       "аутизм              80\n",
       "упражнение          77\n",
       "ассамблея           71\n",
       "экспедиция          70\n",
       "паромный            69\n",
       "вэтс                65\n",
       "универсал           65\n",
       "стандартизация      59\n",
       "казань              57\n",
       "баскетбольный       56\n",
       "берлин              56\n",
       "курык               55\n",
       "арабский            53\n",
       "выпускаться         52\n",
       "перевалка           52\n",
       "ибраимов            49\n",
       "агрохимический      49\n",
       "коррекционный       48\n",
       "транскаспийский     47\n",
       "ента                47\n",
       "взаимовыгодный      47\n",
       "водородный          46\n",
       "эмират              46\n",
       "аутист              46\n",
       "цинк                45\n",
       "манюров             45\n",
       "ультразвуковой      44\n",
       "гюзель              44\n",
       "тихоненко           44\n",
       "машиностроитель     43\n",
       "актогай             42\n",
       "пирс                42\n",
       "нак                 42\n",
       "апк                 42\n",
       "байконур            42\n",
       "наставник           42\n",
       "ссуда               41\n",
       "ярмарка             41\n",
       "вьетнам             41\n",
       "сыздыков            39\n",
       "узбекский           38\n",
       "микро               38\n",
       "многодетный         37\n",
       "хаир                37\n",
       "балгабек            36\n",
       "dtype: int64"
      ]
     },
     "execution_count": 10,
     "metadata": {},
     "output_type": "execute_result"
    }
   ],
   "source": [
    "print('Хорошие слова')\n",
    "positive_freq[positive_freq.index.isin(positive_words)][:50]"
   ]
  },
  {
   "cell_type": "code",
   "execution_count": 11,
   "metadata": {},
   "outputs": [],
   "source": [
    "pos_freq = dict(positive_freq)\n",
    "neg_freq = dict(negative_freq)\n",
    "neu_freq = dict(neutral_freq)"
   ]
  },
  {
   "cell_type": "code",
   "execution_count": 12,
   "metadata": {},
   "outputs": [],
   "source": [
    "def word_sentiment(word):\n",
    "    #word = morph.parse(word.lower())[0].normal_form\n",
    "    if word in negative_words:\n",
    "        neg = neg_freq[word]\n",
    "        \n",
    "        if word in neutral_words:\n",
    "            neu = neg_freq[word]\n",
    "            \n",
    "            if neg > neu/2:\n",
    "                return -neg/2\n",
    "            if neu > neg:\n",
    "                return 0\n",
    "            \n",
    "        return -neg #-1\n",
    "        \n",
    "    if word in positive_words:\n",
    "        pos = pos_freq[word]\n",
    "        \n",
    "        if word in neutral_words:\n",
    "            neu = neu_freq[word]\n",
    "            \n",
    "            if pos > neu/2:\n",
    "                return pos/2\n",
    "            if neu > pos:\n",
    "                return 0\n",
    "            \n",
    "        return pos #1\n",
    "    \n",
    "    return 0"
   ]
  },
  {
   "cell_type": "code",
   "execution_count": 13,
   "metadata": {
    "scrolled": true
   },
   "outputs": [
    {
     "name": "stderr",
     "output_type": "stream",
     "text": [
      "100%|██████████| 7732/7732 [00:01<00:00, 5764.71it/s]\n"
     ]
    }
   ],
   "source": [
    "from multiprocessing import Pool\n",
    "from tqdm import tqdm\n",
    "\n",
    "\n",
    "def _foo(x):\n",
    "    return sum([word_sentiment(w) for w in x.split()])\n",
    "\n",
    "\n",
    "with Pool(4) as p:\n",
    "    pred = list(tqdm(p.imap(_foo, train.text_prep.values), total=len(train)))"
   ]
  },
  {
   "cell_type": "code",
   "execution_count": 14,
   "metadata": {},
   "outputs": [],
   "source": [
    "train['pred'] = pred"
   ]
  },
  {
   "cell_type": "code",
   "execution_count": 15,
   "metadata": {},
   "outputs": [],
   "source": [
    "import seaborn as sns\n",
    "import matplotlib.pyplot as plt\n",
    "\n",
    "sns.set(color_codes=True)"
   ]
  },
  {
   "cell_type": "code",
   "execution_count": 13,
   "metadata": {},
   "outputs": [],
   "source": [
    "from sklearn.metrics import confusion_matrix"
   ]
  },
  {
   "cell_type": "code",
   "execution_count": 17,
   "metadata": {},
   "outputs": [],
   "source": [
    "def threshold(x, pos_thres, neg_thres):\n",
    "    if x > pos_thres:\n",
    "        return 'positive'\n",
    "    if x < neg_thres:\n",
    "        return 'negative'\n",
    "    return 'neutral'\n",
    "\n",
    "#train['result'] = train.pred.apply(threshold)"
   ]
  },
  {
   "cell_type": "code",
   "execution_count": 18,
   "metadata": {},
   "outputs": [],
   "source": [
    "from sklearn.metrics import f1_score"
   ]
  },
  {
   "cell_type": "code",
   "execution_count": 19,
   "metadata": {},
   "outputs": [],
   "source": [
    "def score(x):\n",
    "    pos_thres, neg_thres = x\n",
    "    train['result'] = train.probs.apply(lambda x: threshold(x, pos_thres, neg_thres))\n",
    "    return f1_score(train.sentiment, train.result, average='macro')"
   ]
  },
  {
   "cell_type": "code",
   "execution_count": 20,
   "metadata": {},
   "outputs": [],
   "source": [
    "train['probs'] = train.apply(lambda x: x.pred / len(x.text_prep.split()), axis=1)"
   ]
  },
  {
   "cell_type": "code",
   "execution_count": 21,
   "metadata": {},
   "outputs": [
    {
     "data": {
      "image/png": "[encoded data removed]",
      "text/plain": [
       "<Figure size 720x360 with 1 Axes>"
      ]
     },
     "metadata": {},
     "output_type": "display_data"
    }
   ],
   "source": [
    "plt.figure(figsize=(10, 5))\n",
    "\n",
    "ax = sns.distplot(train.probs.values, bins=80)#.set_title('Распределение настроения новостей');\n",
    "ax.set(xlabel='Нормированная оценка настроения');#№, ylabel='Количество примеров');"
   ]
  },
  {
   "cell_type": "code",
   "execution_count": 22,
   "metadata": {},
   "outputs": [],
   "source": [
    "from scipy.optimize import minimize"
   ]
  },
  {
   "cell_type": "code",
   "execution_count": 291,
   "metadata": {
    "scrolled": true
   },
   "outputs": [
    {
     "name": "stderr",
     "output_type": "stream",
     "text": [
      "/home/e1four15f/anaconda3/lib/python3.7/site-packages/ipykernel_launcher.py:1: OptimizeWarning: Unknown solver options: xtol\n",
      "  \"\"\"Entry point for launching an IPython kernel.\n",
      "/home/e1four15f/anaconda3/lib/python3.7/site-packages/sklearn/metrics/classification.py:1437: UndefinedMetricWarning: F-score is ill-defined and being set to 0.0 in labels with no predicted samples.\n",
      "  'precision', 'predicted', average, warn_for)\n",
      "/home/e1four15f/anaconda3/lib/python3.7/site-packages/sklearn/metrics/classification.py:1437: UndefinedMetricWarning: F-score is ill-defined and being set to 0.0 in labels with no predicted samples.\n",
      "  'precision', 'predicted', average, warn_for)\n",
      "/home/e1four15f/anaconda3/lib/python3.7/site-packages/sklearn/metrics/classification.py:1437: UndefinedMetricWarning: F-score is ill-defined and being set to 0.0 in labels with no predicted samples.\n",
      "  'precision', 'predicted', average, warn_for)\n",
      "/home/e1four15f/anaconda3/lib/python3.7/site-packages/sklearn/metrics/classification.py:1437: UndefinedMetricWarning: F-score is ill-defined and being set to 0.0 in labels with no predicted samples.\n",
      "  'precision', 'predicted', average, warn_for)\n",
      "/home/e1four15f/anaconda3/lib/python3.7/site-packages/sklearn/metrics/classification.py:1437: UndefinedMetricWarning: F-score is ill-defined and being set to 0.0 in labels with no predicted samples.\n",
      "  'precision', 'predicted', average, warn_for)\n",
      "/home/e1four15f/anaconda3/lib/python3.7/site-packages/sklearn/metrics/classification.py:1437: UndefinedMetricWarning: F-score is ill-defined and being set to 0.0 in labels with no predicted samples.\n",
      "  'precision', 'predicted', average, warn_for)\n",
      "/home/e1four15f/anaconda3/lib/python3.7/site-packages/sklearn/metrics/classification.py:1437: UndefinedMetricWarning: F-score is ill-defined and being set to 0.0 in labels with no predicted samples.\n",
      "  'precision', 'predicted', average, warn_for)\n",
      "/home/e1four15f/anaconda3/lib/python3.7/site-packages/sklearn/metrics/classification.py:1437: UndefinedMetricWarning: F-score is ill-defined and being set to 0.0 in labels with no predicted samples.\n",
      "  'precision', 'predicted', average, warn_for)\n",
      "/home/e1four15f/anaconda3/lib/python3.7/site-packages/sklearn/metrics/classification.py:1437: UndefinedMetricWarning: F-score is ill-defined and being set to 0.0 in labels with no predicted samples.\n",
      "  'precision', 'predicted', average, warn_for)\n",
      "/home/e1four15f/anaconda3/lib/python3.7/site-packages/sklearn/metrics/classification.py:1437: UndefinedMetricWarning: F-score is ill-defined and being set to 0.0 in labels with no predicted samples.\n",
      "  'precision', 'predicted', average, warn_for)\n",
      "/home/e1four15f/anaconda3/lib/python3.7/site-packages/sklearn/metrics/classification.py:1437: UndefinedMetricWarning: F-score is ill-defined and being set to 0.0 in labels with no predicted samples.\n",
      "  'precision', 'predicted', average, warn_for)\n",
      "/home/e1four15f/anaconda3/lib/python3.7/site-packages/sklearn/metrics/classification.py:1437: UndefinedMetricWarning: F-score is ill-defined and being set to 0.0 in labels with no predicted samples.\n",
      "  'precision', 'predicted', average, warn_for)\n",
      "/home/e1four15f/anaconda3/lib/python3.7/site-packages/sklearn/metrics/classification.py:1437: UndefinedMetricWarning: F-score is ill-defined and being set to 0.0 in labels with no predicted samples.\n",
      "  'precision', 'predicted', average, warn_for)\n",
      "/home/e1four15f/anaconda3/lib/python3.7/site-packages/sklearn/metrics/classification.py:1437: UndefinedMetricWarning: F-score is ill-defined and being set to 0.0 in labels with no predicted samples.\n",
      "  'precision', 'predicted', average, warn_for)\n",
      "/home/e1four15f/anaconda3/lib/python3.7/site-packages/sklearn/metrics/classification.py:1437: UndefinedMetricWarning: F-score is ill-defined and being set to 0.0 in labels with no predicted samples.\n",
      "  'precision', 'predicted', average, warn_for)\n",
      "/home/e1four15f/anaconda3/lib/python3.7/site-packages/sklearn/metrics/classification.py:1437: UndefinedMetricWarning: F-score is ill-defined and being set to 0.0 in labels with no predicted samples.\n",
      "  'precision', 'predicted', average, warn_for)\n",
      "/home/e1four15f/anaconda3/lib/python3.7/site-packages/sklearn/metrics/classification.py:1437: UndefinedMetricWarning: F-score is ill-defined and being set to 0.0 in labels with no predicted samples.\n",
      "  'precision', 'predicted', average, warn_for)\n",
      "/home/e1four15f/anaconda3/lib/python3.7/site-packages/sklearn/metrics/classification.py:1437: UndefinedMetricWarning: F-score is ill-defined and being set to 0.0 in labels with no predicted samples.\n",
      "  'precision', 'predicted', average, warn_for)\n",
      "/home/e1four15f/anaconda3/lib/python3.7/site-packages/sklearn/metrics/classification.py:1437: UndefinedMetricWarning: F-score is ill-defined and being set to 0.0 in labels with no predicted samples.\n",
      "  'precision', 'predicted', average, warn_for)\n",
      "/home/e1four15f/anaconda3/lib/python3.7/site-packages/sklearn/metrics/classification.py:1437: UndefinedMetricWarning: F-score is ill-defined and being set to 0.0 in labels with no predicted samples.\n",
      "  'precision', 'predicted', average, warn_for)\n",
      "/home/e1four15f/anaconda3/lib/python3.7/site-packages/sklearn/metrics/classification.py:1437: UndefinedMetricWarning: F-score is ill-defined and being set to 0.0 in labels with no predicted samples.\n",
      "  'precision', 'predicted', average, warn_for)\n",
      "/home/e1four15f/anaconda3/lib/python3.7/site-packages/sklearn/metrics/classification.py:1437: UndefinedMetricWarning: F-score is ill-defined and being set to 0.0 in labels with no predicted samples.\n",
      "  'precision', 'predicted', average, warn_for)\n",
      "/home/e1four15f/anaconda3/lib/python3.7/site-packages/sklearn/metrics/classification.py:1437: UndefinedMetricWarning: F-score is ill-defined and being set to 0.0 in labels with no predicted samples.\n",
      "  'precision', 'predicted', average, warn_for)\n",
      "/home/e1four15f/anaconda3/lib/python3.7/site-packages/sklearn/metrics/classification.py:1437: UndefinedMetricWarning: F-score is ill-defined and being set to 0.0 in labels with no predicted samples.\n",
      "  'precision', 'predicted', average, warn_for)\n",
      "/home/e1four15f/anaconda3/lib/python3.7/site-packages/sklearn/metrics/classification.py:1437: UndefinedMetricWarning: F-score is ill-defined and being set to 0.0 in labels with no predicted samples.\n",
      "  'precision', 'predicted', average, warn_for)\n",
      "/home/e1four15f/anaconda3/lib/python3.7/site-packages/sklearn/metrics/classification.py:1437: UndefinedMetricWarning: F-score is ill-defined and being set to 0.0 in labels with no predicted samples.\n",
      "  'precision', 'predicted', average, warn_for)\n",
      "/home/e1four15f/anaconda3/lib/python3.7/site-packages/sklearn/metrics/classification.py:1437: UndefinedMetricWarning: F-score is ill-defined and being set to 0.0 in labels with no predicted samples.\n",
      "  'precision', 'predicted', average, warn_for)\n",
      "/home/e1four15f/anaconda3/lib/python3.7/site-packages/sklearn/metrics/classification.py:1437: UndefinedMetricWarning: F-score is ill-defined and being set to 0.0 in labels with no predicted samples.\n",
      "  'precision', 'predicted', average, warn_for)\n",
      "/home/e1four15f/anaconda3/lib/python3.7/site-packages/sklearn/metrics/classification.py:1437: UndefinedMetricWarning: F-score is ill-defined and being set to 0.0 in labels with no predicted samples.\n",
      "  'precision', 'predicted', average, warn_for)\n",
      "/home/e1four15f/anaconda3/lib/python3.7/site-packages/sklearn/metrics/classification.py:1437: UndefinedMetricWarning: F-score is ill-defined and being set to 0.0 in labels with no predicted samples.\n",
      "  'precision', 'predicted', average, warn_for)\n",
      "/home/e1four15f/anaconda3/lib/python3.7/site-packages/sklearn/metrics/classification.py:1437: UndefinedMetricWarning: F-score is ill-defined and being set to 0.0 in labels with no predicted samples.\n",
      "  'precision', 'predicted', average, warn_for)\n",
      "/home/e1four15f/anaconda3/lib/python3.7/site-packages/sklearn/metrics/classification.py:1437: UndefinedMetricWarning: F-score is ill-defined and being set to 0.0 in labels with no predicted samples.\n",
      "  'precision', 'predicted', average, warn_for)\n",
      "/home/e1four15f/anaconda3/lib/python3.7/site-packages/sklearn/metrics/classification.py:1437: UndefinedMetricWarning: F-score is ill-defined and being set to 0.0 in labels with no predicted samples.\n",
      "  'precision', 'predicted', average, warn_for)\n"
     ]
    },
    {
     "name": "stderr",
     "output_type": "stream",
     "text": [
      "/home/e1four15f/anaconda3/lib/python3.7/site-packages/sklearn/metrics/classification.py:1437: UndefinedMetricWarning: F-score is ill-defined and being set to 0.0 in labels with no predicted samples.\n",
      "  'precision', 'predicted', average, warn_for)\n",
      "/home/e1four15f/anaconda3/lib/python3.7/site-packages/sklearn/metrics/classification.py:1437: UndefinedMetricWarning: F-score is ill-defined and being set to 0.0 in labels with no predicted samples.\n",
      "  'precision', 'predicted', average, warn_for)\n",
      "/home/e1four15f/anaconda3/lib/python3.7/site-packages/sklearn/metrics/classification.py:1437: UndefinedMetricWarning: F-score is ill-defined and being set to 0.0 in labels with no predicted samples.\n",
      "  'precision', 'predicted', average, warn_for)\n",
      "/home/e1four15f/anaconda3/lib/python3.7/site-packages/sklearn/metrics/classification.py:1437: UndefinedMetricWarning: F-score is ill-defined and being set to 0.0 in labels with no predicted samples.\n",
      "  'precision', 'predicted', average, warn_for)\n"
     ]
    },
    {
     "name": "stdout",
     "output_type": "stream",
     "text": [
      "Optimization terminated successfully.\n",
      "         Current function value: 0.412189\n",
      "         Iterations: 1\n",
      "         Function evaluations: 44\n",
      "         Gradient evaluations: 11\n"
     ]
    },
    {
     "name": "stderr",
     "output_type": "stream",
     "text": [
      "/home/e1four15f/anaconda3/lib/python3.7/site-packages/sklearn/metrics/classification.py:1437: UndefinedMetricWarning: F-score is ill-defined and being set to 0.0 in labels with no predicted samples.\n",
      "  'precision', 'predicted', average, warn_for)\n",
      "/home/e1four15f/anaconda3/lib/python3.7/site-packages/sklearn/metrics/classification.py:1437: UndefinedMetricWarning: F-score is ill-defined and being set to 0.0 in labels with no predicted samples.\n",
      "  'precision', 'predicted', average, warn_for)\n",
      "/home/e1four15f/anaconda3/lib/python3.7/site-packages/sklearn/metrics/classification.py:1437: UndefinedMetricWarning: F-score is ill-defined and being set to 0.0 in labels with no predicted samples.\n",
      "  'precision', 'predicted', average, warn_for)\n",
      "/home/e1four15f/anaconda3/lib/python3.7/site-packages/sklearn/metrics/classification.py:1437: UndefinedMetricWarning: F-score is ill-defined and being set to 0.0 in labels with no predicted samples.\n",
      "  'precision', 'predicted', average, warn_for)\n"
     ]
    }
   ],
   "source": [
    "res = minimize(score, [0,-0], method='BFGS', options={'xtol': 1e-8, 'disp': True})"
   ]
  },
  {
   "cell_type": "code",
   "execution_count": 292,
   "metadata": {},
   "outputs": [
    {
     "data": {
      "text/plain": [
       "      fun: 0.4121893760065604\n",
       " hess_inv: array([[1, 0],\n",
       "       [0, 1]])\n",
       "      jac: array([0., 0.])\n",
       "  message: 'Optimization terminated successfully.'\n",
       "     nfev: 44\n",
       "      nit: 1\n",
       "     njev: 11\n",
       "   status: 0\n",
       "  success: True\n",
       "        x: array([0.00000000e+00, 5.12589879e-05])"
      ]
     },
     "execution_count": 292,
     "metadata": {},
     "output_type": "execute_result"
    }
   ],
   "source": [
    "res"
   ]
  },
  {
   "cell_type": "code",
   "execution_count": 38,
   "metadata": {},
   "outputs": [
    {
     "data": {
      "text/plain": [
       "0.6853966392399009"
      ]
     },
     "execution_count": 38,
     "metadata": {},
     "output_type": "execute_result"
    }
   ],
   "source": [
    "score([0.1, -0.05])"
   ]
  },
  {
   "cell_type": "code",
   "execution_count": 35,
   "metadata": {},
   "outputs": [],
   "source": [
    "from sklearn.metrics import classification_report"
   ]
  },
  {
   "cell_type": "code",
   "execution_count": 40,
   "metadata": {},
   "outputs": [
    {
     "name": "stdout",
     "output_type": "stream",
     "text": [
      "              precision    recall  f1-score   support\n",
      "\n",
      "    negative       0.73      0.68      0.71      1337\n",
      "     neutral       0.66      0.72      0.69      3734\n",
      "    positive       0.70      0.63      0.66      2661\n",
      "\n",
      "    accuracy                           0.68      7732\n",
      "   macro avg       0.70      0.68      0.69      7732\n",
      "weighted avg       0.68      0.68      0.68      7732\n",
      "\n"
     ]
    }
   ],
   "source": [
    "print(classification_report(train.sentiment.values, train.result.values))"
   ]
  },
  {
   "cell_type": "code",
   "execution_count": 39,
   "metadata": {},
   "outputs": [
    {
     "data": {
      "image/png": "[encoded data removed]",
      "text/plain": [
       "<Figure size 432x288 with 2 Axes>"
      ]
     },
     "metadata": {},
     "output_type": "display_data"
    }
   ],
   "source": [
    "labels = train.sentiment.unique()\n",
    "array = confusion_matrix(train.sentiment, train.result, labels)\n",
    "df_cm = pd.DataFrame(array, labels, labels)\n",
    "                  \n",
    "sns.set(font_scale=1.4)\n",
    "sns.heatmap(df_cm, annot=True, annot_kws={\"size\": 16}, fmt='.5g');\n",
    "plt.yticks(rotation=0);"
   ]
  },
  {
   "cell_type": "code",
   "execution_count": 7,
   "metadata": {},
   "outputs": [],
   "source": [
    "from sklearn.feature_extraction.text import TfidfVectorizer\n",
    "from sklearn.linear_model import LogisticRegression\n",
    "from sklearn.pipeline import Pipeline, FeatureUnion"
   ]
  },
  {
   "cell_type": "code",
   "execution_count": 23,
   "metadata": {},
   "outputs": [],
   "source": [
    "clf = Pipeline([\n",
    "    ('tfidf', FeatureUnion([\n",
    "        ('word', TfidfVectorizer(ngram_range=(1, 2), max_features=20000)),\n",
    "        ('char', TfidfVectorizer(analyzer='char', ngram_range=(3, 5), max_features=10000))\n",
    "    ])),\n",
    "    ('clf', LogisticRegression(n_jobs=4, solver='lbfgs', multi_class='auto')),\n",
    "])\n",
    "clf = clf.fit(train.text_prep.values, train.sentiment.values)"
   ]
  },
  {
   "cell_type": "code",
   "execution_count": 16,
   "metadata": {},
   "outputs": [
    {
     "ename": "NameError",
     "evalue": "name 'sns' is not defined",
     "output_type": "error",
     "traceback": [
      "\u001b[0;31m---------------------------------------------------------------------------\u001b[0m",
      "\u001b[0;31mNameError\u001b[0m                                 Traceback (most recent call last)",
      "\u001b[0;32m<ipython-input-16-4ead961c71a1>\u001b[0m in \u001b[0;36m<module>\u001b[0;34m\u001b[0m\n\u001b[1;32m      3\u001b[0m \u001b[0mdf_cm\u001b[0m \u001b[0;34m=\u001b[0m \u001b[0mpd\u001b[0m\u001b[0;34m.\u001b[0m\u001b[0mDataFrame\u001b[0m\u001b[0;34m(\u001b[0m\u001b[0marray\u001b[0m\u001b[0;34m,\u001b[0m \u001b[0mlabels\u001b[0m\u001b[0;34m,\u001b[0m \u001b[0mlabels\u001b[0m\u001b[0;34m)\u001b[0m\u001b[0;34m\u001b[0m\u001b[0;34m\u001b[0m\u001b[0m\n\u001b[1;32m      4\u001b[0m \u001b[0;34m\u001b[0m\u001b[0m\n\u001b[0;32m----> 5\u001b[0;31m \u001b[0msns\u001b[0m\u001b[0;34m.\u001b[0m\u001b[0mset\u001b[0m\u001b[0;34m(\u001b[0m\u001b[0mfont_scale\u001b[0m\u001b[0;34m=\u001b[0m\u001b[0;36m1.4\u001b[0m\u001b[0;34m)\u001b[0m\u001b[0;34m\u001b[0m\u001b[0;34m\u001b[0m\u001b[0m\n\u001b[0m\u001b[1;32m      6\u001b[0m \u001b[0msns\u001b[0m\u001b[0;34m.\u001b[0m\u001b[0mheatmap\u001b[0m\u001b[0;34m(\u001b[0m\u001b[0mdf_cm\u001b[0m\u001b[0;34m,\u001b[0m \u001b[0mannot\u001b[0m\u001b[0;34m=\u001b[0m\u001b[0;32mTrue\u001b[0m\u001b[0;34m,\u001b[0m \u001b[0mannot_kws\u001b[0m\u001b[0;34m=\u001b[0m\u001b[0;34m{\u001b[0m\u001b[0;34m\"size\"\u001b[0m\u001b[0;34m:\u001b[0m \u001b[0;36m16\u001b[0m\u001b[0;34m}\u001b[0m\u001b[0;34m,\u001b[0m \u001b[0mfmt\u001b[0m\u001b[0;34m=\u001b[0m\u001b[0;34m'.5g'\u001b[0m\u001b[0;34m)\u001b[0m\u001b[0;34m;\u001b[0m\u001b[0;34m\u001b[0m\u001b[0;34m\u001b[0m\u001b[0m\n\u001b[1;32m      7\u001b[0m \u001b[0mplt\u001b[0m\u001b[0;34m.\u001b[0m\u001b[0myticks\u001b[0m\u001b[0;34m(\u001b[0m\u001b[0mrotation\u001b[0m\u001b[0;34m=\u001b[0m\u001b[0;36m0\u001b[0m\u001b[0;34m)\u001b[0m\u001b[0;34m;\u001b[0m\u001b[0;34m\u001b[0m\u001b[0;34m\u001b[0m\u001b[0m\n",
      "\u001b[0;31mNameError\u001b[0m: name 'sns' is not defined"
     ]
    }
   ],
   "source": [
    "labels = train.sentiment.unique()\n",
    "array = confusion_matrix(train.sentiment, clf.predict(train.text.values), labels)\n",
    "df_cm = pd.DataFrame(array, labels, labels)\n",
    "                  \n",
    "sns.set(font_scale=1.4)\n",
    "sns.heatmap(df_cm, annot=True, annot_kws={\"size\": 16}, fmt='.5g');\n",
    "plt.yticks(rotation=0);"
   ]
  },
  {
   "cell_type": "code",
   "execution_count": 20,
   "metadata": {},
   "outputs": [
    {
     "data": {
      "image/png": "[encoded data removed]",
      "text/plain": [
       "<Figure size 432x288 with 2 Axes>"
      ]
     },
     "metadata": {},
     "output_type": "display_data"
    }
   ],
   "source": [
    "sns.set(font_scale=1.4)\n",
    "sns.heatmap(df_cm, annot=True, annot_kws={\"size\": 16}, fmt='.5g');\n",
    "plt.yticks(rotation=0);"
   ]
  },
  {
   "cell_type": "code",
   "execution_count": 27,
   "metadata": {},
   "outputs": [],
   "source": [
    "pred = clf.predict(train.text.values)"
   ]
  },
  {
   "cell_type": "code",
   "execution_count": 28,
   "metadata": {},
   "outputs": [
    {
     "ename": "NameError",
     "evalue": "name 'classification_report' is not defined",
     "output_type": "error",
     "traceback": [
      "\u001b[0;31m---------------------------------------------------------------------------\u001b[0m",
      "\u001b[0;31mNameError\u001b[0m                                 Traceback (most recent call last)",
      "\u001b[0;32m<ipython-input-28-23d41563137c>\u001b[0m in \u001b[0;36m<module>\u001b[0;34m\u001b[0m\n\u001b[0;32m----> 1\u001b[0;31m \u001b[0mprint\u001b[0m\u001b[0;34m(\u001b[0m\u001b[0mclassification_report\u001b[0m\u001b[0;34m(\u001b[0m\u001b[0mtrain\u001b[0m\u001b[0;34m.\u001b[0m\u001b[0msentiment\u001b[0m\u001b[0;34m.\u001b[0m\u001b[0mvalues\u001b[0m\u001b[0;34m,\u001b[0m \u001b[0mpred\u001b[0m\u001b[0;34m)\u001b[0m\u001b[0;34m)\u001b[0m\u001b[0;34m\u001b[0m\u001b[0;34m\u001b[0m\u001b[0m\n\u001b[0m",
      "\u001b[0;31mNameError\u001b[0m: name 'classification_report' is not defined"
     ]
    }
   ],
   "source": [
    "print(classification_report(train.sentiment.values, pred))"
   ]
  },
  {
   "cell_type": "code",
   "execution_count": 24,
   "metadata": {},
   "outputs": [],
   "source": [
    "import eli5"
   ]
  },
  {
   "cell_type": "code",
   "execution_count": 29,
   "metadata": {},
   "outputs": [
    {
     "data": {
      "text/plain": [
       "'Досудебное расследование по факту покупки ЕНПФ пакета облигаций ТОО \"Бузгул Аурум\" было начато по инициативе Национального банка РК, сообщил директор департамента защиты прав потребителей и финансовых услуг Нацбанка Казахстана Александр Терентьев.\\n\"Основанием для досудебного расследования стало обращение Национального банка, письмо от 25 ноября 2016 года. Было обращение Национального банка в правоохранительные органы. Нам эта сделка показалась сомнительной, недостаточно корректной, поэтому Нацбанк 25 ноября 2016 года обратился в правоохранительные органы. Это то, что я могу озвучить на сегодня. Идёт следствие, проводится проверка\", – сказал Терентьев.\\n28 декабря в Нацбанке заявили, что не знают, что стало основанием для проверки ЕНПФ.\\n23 декабря факт проведения проверки в АО \"Единый накопительный пенсионный фонд\" подтвердился. Пресс-служба Национального банка сообщила, что проверку проводят по операциям, совершённым АО \"ЕНПФ\" в отношении инвестирования собственных активов.\\nТакже в финрегуляторе сообщали, что по сделке ЕНПФ на сумму в пять млрд заведено уголовное дело. В Нацбанке заверяют, что всё происходящее не затрагивает пенсионных накоплений казахстанцев.\\nЕсли вы нашли ошибку в тексте, выделите ее мышью и нажмите Ctrl+Enter\\n'"
      ]
     },
     "execution_count": 29,
     "metadata": {},
     "output_type": "execute_result"
    }
   ],
   "source": []
  },
  {
   "cell_type": "code",
   "execution_count": null,
   "metadata": {},
   "outputs": [],
   "source": [
    "clf.predictd"
   ]
  },
  {
   "cell_type": "code",
   "execution_count": 34,
   "metadata": {},
   "outputs": [
    {
     "data": {
      "text/html": [
       "\n",
       "    <style>\n",
       "    table.eli5-weights tr:hover {\n",
       "        filter: brightness(85%);\n",
       "    }\n",
       "</style>\n",
       "\n",
       "\n",
       "\n",
       "    \n",
       "\n",
       "    \n",
       "\n",
       "    \n",
       "\n",
       "    \n",
       "\n",
       "    \n",
       "\n",
       "    \n",
       "\n",
       "\n",
       "    \n",
       "\n",
       "    \n",
       "\n",
       "    \n",
       "\n",
       "    \n",
       "\n",
       "    \n",
       "\n",
       "    \n",
       "\n",
       "\n",
       "    \n",
       "\n",
       "    \n",
       "\n",
       "    \n",
       "\n",
       "    \n",
       "\n",
       "    \n",
       "\n",
       "    \n",
       "\n",
       "\n",
       "    \n",
       "\n",
       "    \n",
       "\n",
       "    \n",
       "\n",
       "    \n",
       "\n",
       "    \n",
       "\n",
       "    \n",
       "\n",
       "\n",
       "\n",
       "\n",
       "    <div style=\"background-color: #fdd; padding: 0.5em;\">\n",
       "        Error: estimator Pipeline(memory=None,\n",
       "         steps=[('tfidf',\n",
       "                 FeatureUnion(n_jobs=None,\n",
       "                              transformer_list=[('word',\n",
       "                                                 TfidfVectorizer(analyzer='word',\n",
       "                                                                 binary=False,\n",
       "                                                                 decode_error='strict',\n",
       "                                                                 dtype=<class 'numpy.float64'>,\n",
       "                                                                 encoding='utf-8',\n",
       "                                                                 input='content',\n",
       "                                                                 lowercase=True,\n",
       "                                                                 max_df=1.0,\n",
       "                                                                 max_features=20000,\n",
       "                                                                 min_df=1,\n",
       "                                                                 ngram_range=(1,\n",
       "                                                                              2),\n",
       "                                                                 norm='l2',\n",
       "                                                                 preprocessor=None,\n",
       "                                                                 smooth_idf=True,\n",
       "                                                                 stop_words=None,\n",
       "                                                                 s...\n",
       "                                                                 token_pattern='(?u)\\\\b\\\\w\\\\w+\\\\b',\n",
       "                                                                 tokenizer=None,\n",
       "                                                                 use_idf=True,\n",
       "                                                                 vocabulary=None))],\n",
       "                              transformer_weights=None, verbose=False)),\n",
       "                ('clf',\n",
       "                 LogisticRegression(C=1.0, class_weight=None, dual=False,\n",
       "                                    fit_intercept=True, intercept_scaling=1,\n",
       "                                    l1_ratio=None, max_iter=100,\n",
       "                                    multi_class='auto', n_jobs=4, penalty='l2',\n",
       "                                    random_state=None, solver='lbfgs',\n",
       "                                    tol=0.0001, verbose=0, warm_start=False))],\n",
       "         verbose=False) is not supported\n",
       "    </div>\n"
      ],
      "text/plain": [
       "Explanation(estimator=\"Pipeline(memory=None,\\n         steps=[('tfidf',\\n                 FeatureUnion(n_jobs=None,\\n                              transformer_list=[('word',\\n                                                 TfidfVectorizer(analyzer='word',\\n                                                                 binary=False,\\n                                                                 decode_error='strict',\\n                                                                 dtype=<class 'numpy.float64'>,\\n                                                                 encoding='utf-8',\\n                                                                 input='content',\\n                                                                 lowercase=True,\\n                                                                 max_df=1.0,\\n                                                                 max_features=20000,\\n                                                                 min_df=1,\\n                                                                 ngram_range=(1,\\n                                                                              2),\\n                                                                 norm='l2',\\n                                                                 preprocessor=None,\\n                                                                 smooth_idf=True,\\n                                                                 stop_words=None,\\n                                                                 s...\\n                                                                 token_pattern='(?u)\\\\\\\\b\\\\\\\\w\\\\\\\\w+\\\\\\\\b',\\n                                                                 tokenizer=None,\\n                                                                 use_idf=True,\\n                                                                 vocabulary=None))],\\n                              transformer_weights=None, verbose=False)),\\n                ('clf',\\n                 LogisticRegression(C=1.0, class_weight=None, dual=False,\\n                                    fit_intercept=True, intercept_scaling=1,\\n                                    l1_ratio=None, max_iter=100,\\n                                    multi_class='auto', n_jobs=4, penalty='l2',\\n                                    random_state=None, solver='lbfgs',\\n                                    tol=0.0001, verbose=0, warm_start=False))],\\n         verbose=False)\", description=None, error=\"estimator Pipeline(memory=None,\\n         steps=[('tfidf',\\n                 FeatureUnion(n_jobs=None,\\n                              transformer_list=[('word',\\n                                                 TfidfVectorizer(analyzer='word',\\n                                                                 binary=False,\\n                                                                 decode_error='strict',\\n                                                                 dtype=<class 'numpy.float64'>,\\n                                                                 encoding='utf-8',\\n                                                                 input='content',\\n                                                                 lowercase=True,\\n                                                                 max_df=1.0,\\n                                                                 max_features=20000,\\n                                                                 min_df=1,\\n                                                                 ngram_range=(1,\\n                                                                              2),\\n                                                                 norm='l2',\\n                                                                 preprocessor=None,\\n                                                                 smooth_idf=True,\\n                                                                 stop_words=None,\\n                                                                 s...\\n                                                                 token_pattern='(?u)\\\\\\\\b\\\\\\\\w\\\\\\\\w+\\\\\\\\b',\\n                                                                 tokenizer=None,\\n                                                                 use_idf=True,\\n                                                                 vocabulary=None))],\\n                              transformer_weights=None, verbose=False)),\\n                ('clf',\\n                 LogisticRegression(C=1.0, class_weight=None, dual=False,\\n                                    fit_intercept=True, intercept_scaling=1,\\n                                    l1_ratio=None, max_iter=100,\\n                                    multi_class='auto', n_jobs=4, penalty='l2',\\n                                    random_state=None, solver='lbfgs',\\n                                    tol=0.0001, verbose=0, warm_start=False))],\\n         verbose=False) is not supported\", method=None, is_regression=False, targets=None, feature_importances=None, decision_tree=None, highlight_spaces=None, transition_features=None, image=None)"
      ]
     },
     "execution_count": 34,
     "metadata": {},
     "output_type": "execute_result"
    }
   ],
   "source": [
    "eli5.explain_prediction(clf, train.text_prep.values[0])"
   ]
  },
  {
   "cell_type": "code",
   "execution_count": 57,
   "metadata": {},
   "outputs": [],
   "source": [
    "zel = [\\\n",
    "'''\n",
    "В Зеленограде водитель «Мерседеса» совершил наезд на мать с 5-летней девочкой.\n",
    "\n",
    "Дорожный инцидент произошел в среду, 25 декабря, около 15:00 на улице Каменке, напротив детской поликлиники (корпус 1513). По данным зеленоградского отдела ГИБДД, женщина с ребенком переходила дорогу по нерегулируемому пешеходному переходу из 18-го микрорайона в 15-й, а автомобиль двигался от улицы Логвиненко.\n",
    "\n",
    "«Услышала удар, когда подняла голову, увидела, как женщина поднимает ребенка [с проезжей части] — он был перед автомобилем», — рассказала Инфопорталу очевидец последствий ДТП. По словам свидетельницы, мать сразу же повела девочку в поликлинику. Водитель «Мерседеса» остался на месте происшествия.\n",
    "\n",
    "Пешеходы избежали серьезных травм. После осмотра в травмпункте девочку с мамой отпустили домой.\n",
    "В 2019 году в Зеленограде наблюдается всплеск смертности среди пешеходов. После трагического ДТП на улице Каменке в начале декабря, унесшего жизни двух человек — 62-летней женщины и ее 5-летней внучки, в ГИБДД предложили оборудовать ряд нерегулируемых переходов, в том числе «зебру» у поликлиники в 15-м микрорайоне, светофорами с кнопками вызова пешеходной фазы. Это предложение уже поддержали в префектуре, но его еще нужно согласовать с Москвой.\n",
    "''',\n",
    "'''\n",
    "В Зеленограде двух молодых людей приговорили к ограничению свободы. Они устроили дебош на детской площадке и разрисовали подъезд непристойными рисунками.\n",
    "\n",
    "Первый акт вандализма М. Саулин и Е. Васильев совершили 26 ноября 2018 года в пятом часу ночи в одном из дворов района Старое Крюково. Как говорится в приговоре, они ногами повредили металлическую мусорную урну и сломали информационную табличку «Детская площадка». Полицию вызвал житель соседнего дома, наблюдавший за происходящим со своего балкона. Вандалов задержали на месте происшествия. Ущерб, причиненный управляющей компании «Жилищник», составил 3 543 рубля.\n",
    "\n",
    "Спустя почти три недели, в ночь на 14 декабря, Саулин и Васильев вновь совершили преступление — уже в районе Силино. Они разрисовали аэрозольными баллончиками входные группы двух подъездов жилого дома, стены первого этажа, двери электрощитовых и мусороприемников. Хулиганы нанесли синими, белыми и черными красками непристойные рисунки, свастику и надписи с нецензурными словами. Злоумышленников обнаружил на лестничной площадке местный житель, возвращавшийся домой. Он позвонил в полицию и встретил экипаж на улице. В момент прибытия стражей порядка Саулин спал, сидя на ступеньке, а Васильев стоял рядом. Их задержали. На отмывку стен «Жилищник» потратил 76 тысяч рублей.\n",
    "Согласно материалам дела, в обоих эпизодах молодые люди находились в состоянии алкогольного опьянения. Суд приговорил Саулина и Васильева к ограничению свободы на срок 1 год 1 месяц, в течение которого им запрещено выходить на улицу с 22:00 до 6:00, посещать увеселительные заведения, где продают спиртное, и массовые мероприятия, менять место жительства без согласия уголовно-исполнительной инспекции. Они также обязаны выплатить «Жилищнику» 40 тысяч рублей (ранее Васильев уже частично возместил ущерб).\n",
    "\n",
    "В качестве смягчающих наказание обстоятельств суд признал молодой возраст обвиняемых, их раскаяние и состояние здоровья Саулина.\n",
    "\n",
    "Добавим, что человек с такой же фамилией и инициалами, как у Саулина, в феврале 2018 года представал перед судом в Зеленограде по делу о краже, совершенной группой лиц по предварительному сговору. На тот момент он был несовершеннолетним, и суд прекратил уголовное преследование, применив к обвиняемому принудительную меру воспитательного воздействия.\n",
    "''',\n",
    "'''\n",
    "С 1 по 31 января 2020 года водители легковых автомобилей с транспондерами трассы М11 смогут бесплатно ездить по участку Москва–Солнечногорск с 1 часа ночи до 6 часов утра.\n",
    "\n",
    "Об этом сообщили в «Северо-Западной концессионной компании». При проезде сразу по нескольким участкам М11, например, от Москвы до Клина, автомобилисту придется заплатить только за участок от Солнечногорска. Оформить транспондер М11 можно в офисе обслуживания клиентов на 21-м километре трассы (7-й километр от МКАД).\n",
    "\n",
    "Кроме того, в новогодние праздники, с 1 по 8 января, на головном участке платной трассы будут действовать специальные тарифы. Ознакомиться с ними можно здесь.\n",
    "Напомним, такую же акцию оператор участка Москва–Солнечногорск проводил и прошлой зимой — тогда она длилась три месяца.\n",
    "''',\n",
    "'''\n",
    "В Зеленограде 13-летний школьник попал под машину на нерегулируемом пешеходном переходе.\n",
    "\n",
    "Дорожный инцидент произошел в понедельник, 23 декабря, около 15:00 на улице Болдов ручей напротив корпуса 1117. Как сообщили в зеленоградском отделе ГИБДД, водитель автомобиля Hyundai Solaris, 47-летний житель Подмосковья, следуя от Филаретовской улицы, сбил мальчика, который переходил дорогу по «зебре» слева направо по ходу движения машины, то есть от леса к дому. Пострадавшего ребенка доставили в московскую больницу.\n",
    "Нерегулируемый пешеходный переход в этом месте появился совсем недавно — минувшей осенью. Решение об обустройстве «зебры» между лесопарком и корпусом 1117 было принято профильной комиссией префектуры еще в 2015 году.\n",
    "''',\n",
    "'''\n",
    "В Зеленограде водитель «Яндекс.Такси» уснул за рулем в ожидании зеленого сигнала светофора.\n",
    "\n",
    "Видео с задремавшим таксистом опубликовало инстаграм-сообщество zelenogram. Как сообщается в подписи к ролику, это произошло перед перекрестком у торгового комплекса «Панфиловский». Водитель Kia Cerato остановился в среднем ряду и, пока ждал разрешающего сигнала светофора, уснул, опустив голову вниз. Стоявшие перед ним машины уже проехали перекресток, а он остался на месте, заблокировав путь другим водителям. В итоге спящего таксиста разбудил один из автомобилистов — он подошел к машине и постучал в окно.\n",
    "''',\n",
    "'''\n",
    "Зеленоградский спортсмен принял участие в очередном этапе Кубка мира по биатлону.\n",
    "\n",
    "Третий в сезоне этап самой престижной серии соревнований в мировом биатлоне прошел в минувший уикенд во французском Анси. Его результаты опубликованы на сайте Международного союза биатлонистов, а гонки были показаны в прямом эфире на канале «Матч». Матвей Елисеев принял участие во всех трех стартах мужской части программы.\n",
    "\n",
    "В пятничном спринте зеленоградец с одним промахом показал 28-й результат, уступив 1 минуту 16 секунд победителю — Бенедикту Долю из Германии. На следующий день Елисеев промахнулся лишь раз на четырех огневых рубежах в гонке преследования, но не смог улучшить свой результат, и финишировал — 30-м. В воскресенье воспитанник спортшколы №111 принял участие в масс-старте, в который квалифицировались лучшие 30 биатлонистов сезона, но несмотря на «чистую» стрельбу, финишировал лишь 29-м. В интервью после гонки Елисеев объяснил неудачу неправильным выбором лыж для сложных погодных условий (старт проходил под дождем) и отметил накопившуюся усталость.\n",
    "После трех этапов Кубка мира зеленоградец занимает 12-е место в общем зачете соревнований. Лучший из россиян — Александр Логинов — 6-й. Кроме того, Елисеев стал одним из двух членов сборной России, которые выполнили показатели, соответствующие критериям отбора для участия в январских этапах Кубка мира.\n",
    "''',\n",
    "'''\n",
    "Жительница Зеленограда заключила мировое соглашение с торговым центром по делу о выплате компенсации за полученную травму.\n",
    "\n",
    "Как утверждалось в исковом заявлении, 25 февраля 2019 года около 22 часов при выходе из ТЦ «Столица» женщина поскользнулась на покрытой льдом лестнице. Пострадавшая подала в суд на компанию, управляющую торговым центром, и коммерческую организацию, осуществляющую уборку территории, требуя полмиллиона рублей в счет возмещения морального вреда и 48 тысяч рублей в качестве компенсации материального ущерба и судебных расходов.\n",
    "\n",
    "В итоге стороны пришли к мировому соглашению. Согласно определению Зеленоградского районного суда, за причиненный вред здоровью «Столица» заплатит женщине 140 тысяч рублей, а второй ответчик — 90 тысяч рублей.\n",
    "''',\n",
    "'''\n",
    "На встрече в управе местные жители выступили против превращения регбийного поля в стадион с трибунами и крытым манежем.\n",
    "\n",
    "Презентация концепции благоустройства регбийного поля, реализация которого намечена на 2021 год, состоялась в среду, 18 декабря, в управе района Савелки. Ее провел представитель проектной организации «Горметпроект» Вячеслав Ли. Как следует из презентации, площадь благоустраиваемого участка между корпусом 521 и Ленинградским шоссе, рядом с парком «Ровесник», составляет около 20 тысяч кв. метров. Существующее на этом участке регбийное поле предполагается развернуть на 90 градусов, «торцом» к Ленинградке, чтобы иметь возможность разместить здесь и другие объекты. Поле размером 131х78 метров (игровая часть, выделенная разметкой, будет несколько меньше) получит естественное покрытие в виде рулонного газона, устойчивого к вытаптыванию. При необходимости после игр можно будет менять фрагменты газона, чтобы он всегда сохранял свои качества для проведения спортивных мероприятий, отметил проектировщик.\n",
    "\n",
    "Вокруг поля сделают невысокое ограждение и поставят 14-метровые мачты освещения, которое будет осуществляться оборудованием с регулируемым светопотоком. Со стороны парка «Ровесник» вдоль поля установят трибуны из пяти секторов общей вместимостью 260 человек и модули контейнерного типа для размещения раздевалок на шесть команд и прочих административно-бытовых помещений. При этом трибуны будут располагаться на кровле контейнеров, что создаст лучший обзор для зрителей, подчеркнул Вячеслав Ли. Судя по изображениям в презентации, с двух сторон от поля также появятся большие табло.\n",
    "\n",
    "Рядом с основным регбийным полем предполагается разместить манеж с искусственным покрытием площадки размером 60х40 метров. Этот объект, по словам проектировщика, можно будет использовать для занятий мини-футболом, мини-регби и теннисом. Манеж будет представлять собой арочную быстровозводимую конструкцию с тентовым покрытием. Кроме того, в составе комплекса предполагается оборудовать детскую площадку, площадку для занятий воркаутом и служебную парковку на 22 автомобиля, у въезда на которую расположится КПП со шлагбаумом.\n",
    "Сразу после выступления докладчика слово взял присутствовавший на встрече житель корпуса 519, который высказался категорически против проекта. Его мнение поддержали возгласами еще несколько человек, при этом никто из присутствовавших на собрании местных жителей не возразил против данного мнения. Основная претензия мужчины к проекту заключалась в отсутствии достаточно вместительной парковки. «Каждый второй приедет на машине. Парковаться они будут у нас во дворах. […] Мы здесь живем, и нам это поле не нужно вообще. […] Оно было в таком виде: автобус приезжал туда раз в неделю с командами — и отлично. Пусть оно так и остается. […] Или тогда стройте поле и одновременно с этим полем стройте шлагбаумы, чтобы ни одна чужая машина не заехала к нам во дворы. […] К нам уже приезжают на нашу хоккейную коробку, будут теперь приезжать на теннисный корт и будут приезжать еще сюда. Значит, жизни у нас не будет! Будет такая же фигня, как в 9-м районе, как вот сейчас в 16-м районе, когда людям жить не дают — построили эту площадку фестивальную и так далее. […] Есть стадион \"Элион\" — заберите его у частников, мы знаем каких, мы знаем, чей это стадион — постройте там регбийное поле. Там полно места. Шалманы эти к чертям собачьим уберите. А это просто ад какой-то!» — сказал местный житель. Глава управы Андрей Макшанцев прокомментировал это выступление так: «Это как раз проблема: кому-то нужно, кому-то не нужно».\n",
    "Поле рядом с 5-м микрорайоном используется для игры в регби и организованных тренировок по этому виду спорта как минимум с середины 2000-х годов. В 2009 году на этом месте собирались построить «народный гараж», однако после протестов регбистов, у которых на тот момент не было ни одной благоустроенной площадки для игр в Зеленограде, власти отказались от этих намерений. В 2011 году это площадка предлагалась для размещения ФОКа, но этот проект не был реализован. Как минимум с 2012 года известно о планах властей превратить регбийное поле в стадион, построив там трибуны. В 2013 году намерения разместить здесь более масштабный спортивный комплекс подтверждали в Москомархитектуре, но в итоге ничего этого не случилось.\n",
    "\n",
    "Несколько месяцев назад первый зампрефекта Алексей Михальченков сообщил о перспективе строительства в Зеленограде второго регбийного стадиона с большими трибунами. При этом место предполагаемой застройки он не назвал, а о благоустройстве регбийного поля в 5-м микрорайоне говорил как об отдельном проекте. Отметим, что благоустройство этого поля с установкой ограждения, освещения, трибун и раздевалки входило в предвыборную программу избранного в 2019 году депутата Мосгордумы от Зеленограда Андрея Титова. При этом о выделении средств на разработку проектно-сметной документации по реконструкции объекта стало известно за несколько месяцев до формирования данной программы.\n",
    "''',\n",
    "'''\n",
    "В зеленоградской горбольнице рассказали историю спасения девушки, которая несколько дней находилась между жизнью и смертью после серьезного ДТП.\n",
    "\n",
    "Историю 19-летней Анастасии Парфировой пресс-служба медицинского учреждения опубликовала в середине декабря. Сам инцидент, в котором она пострадала, произошел двумя месяцами ранее. Как рассказал Инфопорталу источник в экстренных службах, ДТП случилось ночью 7 октября на Ленинградском шоссе в районе Черной Грязи. Машина, в которой в качестве пассажира на переднем сиденье находилась Анастасия, ударилась в отбойник.\n",
    "\n",
    "Пострадавшую доставили в травмоцентр зеленоградской больницы в тяжелейшем состоянии. «Сразу же подключились все необходимые специалисты, провели КТ, обработали раны. Дежурный врач вызвал заведующего отделением травматологии и ортопедии Алексея Мыльникова. Алексей Васильевич приехал незамедлительно. Результаты компьютерной томографии показали — трансаллярный перелом крестца, открытый оскольчатый перелом крыла правой подвздошной кости таза со смещением, перелом лонных и седалищных костей таза со смещением, разрыв крестцово-подвздошного сочленения (КПС) справа», — говорится в сообщении клиники.\n",
    "\n",
    "Перелом тазовых костей — наиболее опасное и тяжелое повреждение опорно-двигательного аппарата, пояснили медики. Травма сопровождается обильным кровотечением из обломков и мягких тканей, травматическим шоком, который возникает на фоне кровопотери и интенсивного болевого синдрома. В случае, когда перелом открытый, риск для жизни значительно возрастает. Жизнь Анастасии действительно была под угрозой — по экстренным показаниям ей провели первую операцию: первичную хирургическую обработку ран и стабилизацию переломов таза в надацетабулярном аппарате внешней фиксации. Состояние девушки оставалось тяжелым из-за сильной потери крови и болевого синдрома. Трое суток специалисты боролись за ее жизнь в отделении анестезиологии-реанимации. В результате интенсивной противошоковой, гемотрансфузионной, антибактериальной и антикоагулянтной терапии состояние пациентки, наконец, было стабилизировано. На четвертые сутки после аварии врачи провели вторую операцию: окончательную реконструкцию тазового кольца и комбинированный остеосинтез (внутреннюю фиксацию).\n",
    "Операция была проведена совместно с научным сотрудником отделения множественной и сочетанной травмы НИИ скорой помощи имени Склифосовского Никитой Заднепровским — автором методики внутрикостной фиксации переломов лонной кости штифтом с блокированием. Учитывая уникальность метода, в операционной с целью обучения присутствовали врачи из Индии и Тюменской области. Как правило, пострадавшие с такими травмами прикованы к кровати несколько месяцев. Но использованная в данном случае методика благодаря надежной фиксации отломков позволяет практически сразу купировать болевой синдром в области перелома лонной кости и активизировать пациента в максимально короткие сроки. Уже на второй день после операции Анастасия начала садиться и вставать. Передвигалась поначалу при помощи ходунков. Но главное — она могла ходить и практически не испытывала боли. Девушка была выписана домой. Дальнейшее лечение и контроль за ее состоянием велись амбулаторно.\n",
    "Недавно Анастасия приезжала в больницу на контрольный осмотр. Врачи отметили хорошее восстановление двигательных функций, начальные признаки сращения переломов, полный объем движений в суставах, отсутствие болевого синдрома. Она уже ходит самостоятельно без каких-либо вспомогательных средств, может приседать и практически вернулась к обычному ритму жизни.\n",
    "Травматологический центр первого уровня был создан на базе больницы в Зеленограде в марте текущего года. С пациентами здесь работает мультидисциплинарная бригада, в которую входят анестезиологи-реаниматологи, хирурги, травматологи-ортопеды, специалисты диагностических служб, по показаниям привлекаются другие специалисты. По словам главврача больницы имени Кончаловского Олега Гриднева, ежегодно в стационар медучреждения поступает порядка 150 пострадавших с «травмой высокой энергии». «В основном это следствие ДТП и падений с высоты. В травмоцентре им оказывают специализированную и высокотехнологичную помощь в полном объеме, начиная с приемного отделения и заканчивая первым этапом реабилитации. Слаженная работа всех подразделений позволяет нам достигать хороших результатов при лечении этой категории больных», — сообщил Гриднев.\n",
    "''',\n",
    "'''\n",
    "   Окружная градостроительная комиссия, возглавляемая префектом Анатолием Смирновым, одобрила проект планировки жилого комплекса, который появится на месте сносимых «хрущевок» у станции Крюково.\n",
    "\n",
    "Соответствующие заключения по итогам слушаний опубликованы на сайте префектуры Зеленограда. Теперь проект реновации будет передан в Москву для дальнейшего согласования и утверждения.\n",
    "\n",
    "Формально по 19-му микрорайону проводились двое слушаний одновременно — по проекту планировки и по проекту внесения изменений в правила землепользования и застройки (ПЗЗ). Общее собрание состоялось 29 октября в школе в 23-м микрорайоне. Количество участников и поступивших отзывов подсчитывали по каждым слушаниям отдельно (поэтому на сайте префектуры опубликованы два пакета документов). Как указано в протоколах, подавляющее большинство — больше 450 человек — одобрили проект реновации. При этом комиссия не стала учитывать ксерокопии 30 листов с 211 подписями, так как не смогла установить их подлинность. Эти отзывы представила участница слушаний Элла Анфимова, критиковавшая проект.\n",
    "\n",
    "Всем, кто выступал против уплотнения застройки 19-го микрорайона и высказывал недовольство малым количеством парковочных мест, в градостроительной комиссии ответили такими тезисами: расчетная плотность застройки квартала реновации (13,7 тыс. кв. м / га) соответствует нормам; высота застройки составляет 7–14 этажей с отдельными акцентами до 23 этажей, что соответствует архитектурному стилю района Крюково и не противоречит действующим градостроительным нормам; проектом предусмотрено максимальное размещение наземных парковок вне дворовых пространств, все жилые дома расположены в радиусе не более 500 метров от многоуровневых парковок.\n",
    "\n",
    "О том, как проходили публичные слушания, Инфопортал подробно писал здесь.\n",
    "Напомним, на месте 23 «хрущевок» в 19-м микрорайоне собираются построить 22 жилых дома высотой от 7 до 23 этажей с двумя подземными гаражами на 104 места. Помимо жилья там планируют построить детскую поликлинику на 320 посещений в смену (рядом со школой №1912 между Крюковской эстакадой и 18-м микрорайоном), два детских сада на 350 и 100 мест, школу на 600 мест со стадионом, двухэтажный ФОК с бассейном, два многоуровневых паркинга на 300 и 620 машин, общественно-деловой центр, культурный центр, два объекта торговли и объект общепита. Реконструкция микрорайона предполагает расширение проезжей части Заводской улицы (с 10,5 до 15 метров), Советской улицы (с 6 до 11 метров) и улицы 1 Мая (с 6 до 9 метров), открытие двух новых автобусных остановок на Заводской улице и обустройство велодорожки вдоль Георгиевского проспекта, улицы Летчицы Тарасовой и улицы 1 Мая. Траекторию Заводской улицы собираются изменить, ликвидировав перекресток с улицей Радио у «старого» моста через ОЖД.\n",
    "\n",
    "Вместе с «хрущевками» снесут здание ГИБДД, недострой ФГУП ИППМ РАН, магазин мебели (Заводская улица, дом 18, строение 11), часть зданий лесоторговой базы (Овражная улица, дом 17а, строения 2 и 3), производственное здание (улица Радио, дом 23, строение 9), склад (Заводская улица, дом 1) и двухэтажный кирпичный дом на улице 1 Мая, за сохранение которого боролись местные краеведы, но власти Москвы не признали его памятником истории.\n",
    "\n",
    "Под снос не попадают 16-этажный корпус 1925 (в народе — «цыганская башня»), 12 частных домовладений, три нежилых дома (высотой 2–3 этажа) на улице 1 Мая, две нежилые двухэтажки на Заводской улице, реабилитационный центр для инвалидов «Ремесла» и здание МФЮА.\n",
    "'''\n",
    "]\n",
    "       "
   ]
  },
  {
   "cell_type": "code",
   "execution_count": 58,
   "metadata": {},
   "outputs": [
    {
     "name": "stdout",
     "output_type": "stream",
     "text": [
      "1237\n",
      "2285\n",
      "771\n",
      "731\n",
      "605\n",
      "1363\n",
      "763\n",
      "4953\n",
      "4361\n",
      "3464\n"
     ]
    }
   ],
   "source": [
    "for i in zel:\n",
    "    print(len(i))"
   ]
  },
  {
   "cell_type": "code",
   "execution_count": 75,
   "metadata": {},
   "outputs": [
    {
     "name": "stdout",
     "output_type": "stream",
     "text": [
      "\\footnote{\\href{https://www.netall.ru/society/news/1136381.html}{https://www.netall.ru/society/news/1136381.html}}\n"
     ]
    }
   ],
   "source": [
    "links = [\n",
    "    'https://www.netall.ru/society/news/1136381.html'\n",
    "]\n",
    "\n",
    "for i in links:\n",
    "    print('\\\\footnote{\\href{' + i + '}{' + i + '}}')"
   ]
  },
  {
   "cell_type": "code",
   "execution_count": null,
   "metadata": {},
   "outputs": [],
   "source": [
    "\\footnote{\\href{}{\n",
    "      https://github.com/e1four15f/math-modeling-institute\n",
    "                                                         }}"
   ]
  },
  {
   "cell_type": "code",
   "execution_count": 59,
   "metadata": {},
   "outputs": [],
   "source": [
    "def _foo(x):\n",
    "    return ' '.join([\n",
    "        morph.parse(token.text)[0].normal_form \n",
    "        for token in razdel.tokenize(re.sub(r'[^а-ё ]', ' ', x.lower()))\n",
    "    ])"
   ]
  },
  {
   "cell_type": "code",
   "execution_count": 60,
   "metadata": {},
   "outputs": [
    {
     "data": {
      "text/plain": [
       "['\\nВ Зеленограде водитель «Мерседеса» совершил наезд на мать с 5-летней девочкой.\\n\\nДорожный инцидент произошел в среду, 25 декабря, около 15:00 на улице Каменке, напротив детской поликлиники (корпус 1513). По данным зеленоградского отдела ГИБДД, женщина с ребенком переходила дорогу по нерегулируемому пешеходному переходу из 18-го микрорайона в 15-й, а автомобиль двигался от улицы Логвиненко.\\n\\n«Услышала удар, когда подняла голову, увидела, как женщина поднимает ребенка [с проезжей части] — он был перед автомобилем», — рассказала Инфопорталу очевидец последствий ДТП. По словам свидетельницы, мать сразу же повела девочку в поликлинику. Водитель «Мерседеса» остался на месте происшествия.\\n\\nПешеходы избежали серьезных травм. После осмотра в травмпункте девочку с мамой отпустили домой.\\nВ 2019 году в Зеленограде наблюдается всплеск смертности среди пешеходов. После трагического ДТП на улице Каменке в начале декабря, унесшего жизни двух человек — 62-летней женщины и ее 5-летней внучки, в ГИБДД предложили оборудовать ряд нерегулируемых переходов, в том числе «зебру» у поликлиники в 15-м микрорайоне, светофорами с кнопками вызова пешеходной фазы. Это предложение уже поддержали в префектуре, но его еще нужно согласовать с Москвой.\\n',\n",
       " '\\nВ Зеленограде двух молодых людей приговорили к ограничению свободы. Они устроили дебош на детской площадке и разрисовали подъезд непристойными рисунками.\\n\\nПервый акт вандализма М. Саулин и Е. Васильев совершили 26 ноября 2018 года в пятом часу ночи в одном из дворов района Старое Крюково. Как говорится в приговоре, они ногами повредили металлическую мусорную урну и сломали информационную табличку «Детская площадка». Полицию вызвал житель соседнего дома, наблюдавший за происходящим со своего балкона. Вандалов задержали на месте происшествия. Ущерб, причиненный управляющей компании «Жилищник», составил 3 543 рубля.\\n\\nСпустя почти три недели, в ночь на 14 декабря, Саулин и Васильев вновь совершили преступление — уже в районе Силино. Они разрисовали аэрозольными баллончиками входные группы двух подъездов жилого дома, стены первого этажа, двери электрощитовых и мусороприемников. Хулиганы нанесли синими, белыми и черными красками непристойные рисунки, свастику и надписи с нецензурными словами. Злоумышленников обнаружил на лестничной площадке местный житель, возвращавшийся домой. Он позвонил в полицию и встретил экипаж на улице. В момент прибытия стражей порядка Саулин спал, сидя на ступеньке, а Васильев стоял рядом. Их задержали. На отмывку стен «Жилищник» потратил 76 тысяч рублей.\\nСогласно материалам дела, в обоих эпизодах молодые люди находились в состоянии алкогольного опьянения. Суд приговорил Саулина и Васильева к ограничению свободы на срок 1 год 1 месяц, в течение которого им запрещено выходить на улицу с 22:00 до 6:00, посещать увеселительные заведения, где продают спиртное, и массовые мероприятия, менять место жительства без согласия уголовно-исполнительной инспекции. Они также обязаны выплатить «Жилищнику» 40 тысяч рублей (ранее Васильев уже частично возместил ущерб).\\n\\nВ качестве смягчающих наказание обстоятельств суд признал молодой возраст обвиняемых, их раскаяние и состояние здоровья Саулина.\\n\\nДобавим, что человек с такой же фамилией и инициалами, как у Саулина, в феврале 2018 года представал перед судом в Зеленограде по делу о краже, совершенной группой лиц по предварительному сговору. На тот момент он был несовершеннолетним, и суд прекратил уголовное преследование, применив к обвиняемому принудительную меру воспитательного воздействия.\\n',\n",
       " '\\nС 1 по 31 января 2020 года водители легковых автомобилей с транспондерами трассы М11 смогут бесплатно ездить по участку Москва–Солнечногорск с 1 часа ночи до 6 часов утра.\\n\\nОб этом сообщили в «Северо-Западной концессионной компании». При проезде сразу по нескольким участкам М11, например, от Москвы до Клина, автомобилисту придется заплатить только за участок от Солнечногорска. Оформить транспондер М11 можно в офисе обслуживания клиентов на 21-м километре трассы (7-й километр от МКАД).\\n\\nКроме того, в новогодние праздники, с 1 по 8 января, на головном участке платной трассы будут действовать специальные тарифы. Ознакомиться с ними можно здесь.\\nНапомним, такую же акцию оператор участка Москва–Солнечногорск проводил и прошлой зимой — тогда она длилась три месяца.\\n',\n",
       " '\\nВ Зеленограде 13-летний школьник попал под машину на нерегулируемом пешеходном переходе.\\n\\nДорожный инцидент произошел в понедельник, 23 декабря, около 15:00 на улице Болдов ручей напротив корпуса 1117. Как сообщили в зеленоградском отделе ГИБДД, водитель автомобиля Hyundai Solaris, 47-летний житель Подмосковья, следуя от Филаретовской улицы, сбил мальчика, который переходил дорогу по «зебре» слева направо по ходу движения машины, то есть от леса к дому. Пострадавшего ребенка доставили в московскую больницу.\\nНерегулируемый пешеходный переход в этом месте появился совсем недавно — минувшей осенью. Решение об обустройстве «зебры» между лесопарком и корпусом 1117 было принято профильной комиссией префектуры еще в 2015 году.\\n',\n",
       " '\\nВ Зеленограде водитель «Яндекс.Такси» уснул за рулем в ожидании зеленого сигнала светофора.\\n\\nВидео с задремавшим таксистом опубликовало инстаграм-сообщество zelenogram. Как сообщается в подписи к ролику, это произошло перед перекрестком у торгового комплекса «Панфиловский». Водитель Kia Cerato остановился в среднем ряду и, пока ждал разрешающего сигнала светофора, уснул, опустив голову вниз. Стоявшие перед ним машины уже проехали перекресток, а он остался на месте, заблокировав путь другим водителям. В итоге спящего таксиста разбудил один из автомобилистов — он подошел к машине и постучал в окно.\\n',\n",
       " '\\nЗеленоградский спортсмен принял участие в очередном этапе Кубка мира по биатлону.\\n\\nТретий в сезоне этап самой престижной серии соревнований в мировом биатлоне прошел в минувший уикенд во французском Анси. Его результаты опубликованы на сайте Международного союза биатлонистов, а гонки были показаны в прямом эфире на канале «Матч». Матвей Елисеев принял участие во всех трех стартах мужской части программы.\\n\\nВ пятничном спринте зеленоградец с одним промахом показал 28-й результат, уступив 1 минуту 16 секунд победителю — Бенедикту Долю из Германии. На следующий день Елисеев промахнулся лишь раз на четырех огневых рубежах в гонке преследования, но не смог улучшить свой результат, и финишировал — 30-м. В воскресенье воспитанник спортшколы №111 принял участие в масс-старте, в который квалифицировались лучшие 30 биатлонистов сезона, но несмотря на «чистую» стрельбу, финишировал лишь 29-м. В интервью после гонки Елисеев объяснил неудачу неправильным выбором лыж для сложных погодных условий (старт проходил под дождем) и отметил накопившуюся усталость.\\nПосле трех этапов Кубка мира зеленоградец занимает 12-е место в общем зачете соревнований. Лучший из россиян — Александр Логинов — 6-й. Кроме того, Елисеев стал одним из двух членов сборной России, которые выполнили показатели, соответствующие критериям отбора для участия в январских этапах Кубка мира.\\n',\n",
       " '\\nЖительница Зеленограда заключила мировое соглашение с торговым центром по делу о выплате компенсации за полученную травму.\\n\\nКак утверждалось в исковом заявлении, 25 февраля 2019 года около 22 часов при выходе из ТЦ «Столица» женщина поскользнулась на покрытой льдом лестнице. Пострадавшая подала в суд на компанию, управляющую торговым центром, и коммерческую организацию, осуществляющую уборку территории, требуя полмиллиона рублей в счет возмещения морального вреда и 48 тысяч рублей в качестве компенсации материального ущерба и судебных расходов.\\n\\nВ итоге стороны пришли к мировому соглашению. Согласно определению Зеленоградского районного суда, за причиненный вред здоровью «Столица» заплатит женщине 140 тысяч рублей, а второй ответчик — 90 тысяч рублей.\\n',\n",
       " '\\nНа встрече в управе местные жители выступили против превращения регбийного поля в стадион с трибунами и крытым манежем.\\n\\nПрезентация концепции благоустройства регбийного поля, реализация которого намечена на 2021 год, состоялась в среду, 18 декабря, в управе района Савелки. Ее провел представитель проектной организации «Горметпроект» Вячеслав Ли. Как следует из презентации, площадь благоустраиваемого участка между корпусом 521 и Ленинградским шоссе, рядом с парком «Ровесник», составляет около 20 тысяч кв. метров. Существующее на этом участке регбийное поле предполагается развернуть на 90 градусов, «торцом» к Ленинградке, чтобы иметь возможность разместить здесь и другие объекты. Поле размером 131х78 метров (игровая часть, выделенная разметкой, будет несколько меньше) получит естественное покрытие в виде рулонного газона, устойчивого к вытаптыванию. При необходимости после игр можно будет менять фрагменты газона, чтобы он всегда сохранял свои качества для проведения спортивных мероприятий, отметил проектировщик.\\n\\nВокруг поля сделают невысокое ограждение и поставят 14-метровые мачты освещения, которое будет осуществляться оборудованием с регулируемым светопотоком. Со стороны парка «Ровесник» вдоль поля установят трибуны из пяти секторов общей вместимостью 260 человек и модули контейнерного типа для размещения раздевалок на шесть команд и прочих административно-бытовых помещений. При этом трибуны будут располагаться на кровле контейнеров, что создаст лучший обзор для зрителей, подчеркнул Вячеслав Ли. Судя по изображениям в презентации, с двух сторон от поля также появятся большие табло.\\n\\nРядом с основным регбийным полем предполагается разместить манеж с искусственным покрытием площадки размером 60х40 метров. Этот объект, по словам проектировщика, можно будет использовать для занятий мини-футболом, мини-регби и теннисом. Манеж будет представлять собой арочную быстровозводимую конструкцию с тентовым покрытием. Кроме того, в составе комплекса предполагается оборудовать детскую площадку, площадку для занятий воркаутом и служебную парковку на 22 автомобиля, у въезда на которую расположится КПП со шлагбаумом.\\nСразу после выступления докладчика слово взял присутствовавший на встрече житель корпуса 519, который высказался категорически против проекта. Его мнение поддержали возгласами еще несколько человек, при этом никто из присутствовавших на собрании местных жителей не возразил против данного мнения. Основная претензия мужчины к проекту заключалась в отсутствии достаточно вместительной парковки. «Каждый второй приедет на машине. Парковаться они будут у нас во дворах. […] Мы здесь живем, и нам это поле не нужно вообще. […] Оно было в таком виде: автобус приезжал туда раз в неделю с командами — и отлично. Пусть оно так и остается. […] Или тогда стройте поле и одновременно с этим полем стройте шлагбаумы, чтобы ни одна чужая машина не заехала к нам во дворы. […] К нам уже приезжают на нашу хоккейную коробку, будут теперь приезжать на теннисный корт и будут приезжать еще сюда. Значит, жизни у нас не будет! Будет такая же фигня, как в 9-м районе, как вот сейчас в 16-м районе, когда людям жить не дают — построили эту площадку фестивальную и так далее. […] Есть стадион \"Элион\" — заберите его у частников, мы знаем каких, мы знаем, чей это стадион — постройте там регбийное поле. Там полно места. Шалманы эти к чертям собачьим уберите. А это просто ад какой-то!» — сказал местный житель. Глава управы Андрей Макшанцев прокомментировал это выступление так: «Это как раз проблема: кому-то нужно, кому-то не нужно».\\nПоле рядом с 5-м микрорайоном используется для игры в регби и организованных тренировок по этому виду спорта как минимум с середины 2000-х годов. В 2009 году на этом месте собирались построить «народный гараж», однако после протестов регбистов, у которых на тот момент не было ни одной благоустроенной площадки для игр в Зеленограде, власти отказались от этих намерений. В 2011 году это площадка предлагалась для размещения ФОКа, но этот проект не был реализован. Как минимум с 2012 года известно о планах властей превратить регбийное поле в стадион, построив там трибуны. В 2013 году намерения разместить здесь более масштабный спортивный комплекс подтверждали в Москомархитектуре, но в итоге ничего этого не случилось.\\n\\nНесколько месяцев назад первый зампрефекта Алексей Михальченков сообщил о перспективе строительства в Зеленограде второго регбийного стадиона с большими трибунами. При этом место предполагаемой застройки он не назвал, а о благоустройстве регбийного поля в 5-м микрорайоне говорил как об отдельном проекте. Отметим, что благоустройство этого поля с установкой ограждения, освещения, трибун и раздевалки входило в предвыборную программу избранного в 2019 году депутата Мосгордумы от Зеленограда Андрея Титова. При этом о выделении средств на разработку проектно-сметной документации по реконструкции объекта стало известно за несколько месяцев до формирования данной программы.\\n',\n",
       " '\\nВ зеленоградской горбольнице рассказали историю спасения девушки, которая несколько дней находилась между жизнью и смертью после серьезного ДТП.\\n\\nИсторию 19-летней Анастасии Парфировой пресс-служба медицинского учреждения опубликовала в середине декабря. Сам инцидент, в котором она пострадала, произошел двумя месяцами ранее. Как рассказал Инфопорталу источник в экстренных службах, ДТП случилось ночью 7 октября на Ленинградском шоссе в районе Черной Грязи. Машина, в которой в качестве пассажира на переднем сиденье находилась Анастасия, ударилась в отбойник.\\n\\nПострадавшую доставили в травмоцентр зеленоградской больницы в тяжелейшем состоянии. «Сразу же подключились все необходимые специалисты, провели КТ, обработали раны. Дежурный врач вызвал заведующего отделением травматологии и ортопедии Алексея Мыльникова. Алексей Васильевич приехал незамедлительно. Результаты компьютерной томографии показали — трансаллярный перелом крестца, открытый оскольчатый перелом крыла правой подвздошной кости таза со смещением, перелом лонных и седалищных костей таза со смещением, разрыв крестцово-подвздошного сочленения (КПС) справа», — говорится в сообщении клиники.\\n\\nПерелом тазовых костей — наиболее опасное и тяжелое повреждение опорно-двигательного аппарата, пояснили медики. Травма сопровождается обильным кровотечением из обломков и мягких тканей, травматическим шоком, который возникает на фоне кровопотери и интенсивного болевого синдрома. В случае, когда перелом открытый, риск для жизни значительно возрастает. Жизнь Анастасии действительно была под угрозой — по экстренным показаниям ей провели первую операцию: первичную хирургическую обработку ран и стабилизацию переломов таза в надацетабулярном аппарате внешней фиксации. Состояние девушки оставалось тяжелым из-за сильной потери крови и болевого синдрома. Трое суток специалисты боролись за ее жизнь в отделении анестезиологии-реанимации. В результате интенсивной противошоковой, гемотрансфузионной, антибактериальной и антикоагулянтной терапии состояние пациентки, наконец, было стабилизировано. На четвертые сутки после аварии врачи провели вторую операцию: окончательную реконструкцию тазового кольца и комбинированный остеосинтез (внутреннюю фиксацию).\\nОперация была проведена совместно с научным сотрудником отделения множественной и сочетанной травмы НИИ скорой помощи имени Склифосовского Никитой Заднепровским — автором методики внутрикостной фиксации переломов лонной кости штифтом с блокированием. Учитывая уникальность метода, в операционной с целью обучения присутствовали врачи из Индии и Тюменской области. Как правило, пострадавшие с такими травмами прикованы к кровати несколько месяцев. Но использованная в данном случае методика благодаря надежной фиксации отломков позволяет практически сразу купировать болевой синдром в области перелома лонной кости и активизировать пациента в максимально короткие сроки. Уже на второй день после операции Анастасия начала садиться и вставать. Передвигалась поначалу при помощи ходунков. Но главное — она могла ходить и практически не испытывала боли. Девушка была выписана домой. Дальнейшее лечение и контроль за ее состоянием велись амбулаторно.\\nНедавно Анастасия приезжала в больницу на контрольный осмотр. Врачи отметили хорошее восстановление двигательных функций, начальные признаки сращения переломов, полный объем движений в суставах, отсутствие болевого синдрома. Она уже ходит самостоятельно без каких-либо вспомогательных средств, может приседать и практически вернулась к обычному ритму жизни.\\nТравматологический центр первого уровня был создан на базе больницы в Зеленограде в марте текущего года. С пациентами здесь работает мультидисциплинарная бригада, в которую входят анестезиологи-реаниматологи, хирурги, травматологи-ортопеды, специалисты диагностических служб, по показаниям привлекаются другие специалисты. По словам главврача больницы имени Кончаловского Олега Гриднева, ежегодно в стационар медучреждения поступает порядка 150 пострадавших с «травмой высокой энергии». «В основном это следствие ДТП и падений с высоты. В травмоцентре им оказывают специализированную и высокотехнологичную помощь в полном объеме, начиная с приемного отделения и заканчивая первым этапом реабилитации. Слаженная работа всех подразделений позволяет нам достигать хороших результатов при лечении этой категории больных», — сообщил Гриднев.\\n',\n",
       " '\\n   Окружная градостроительная комиссия, возглавляемая префектом Анатолием Смирновым, одобрила проект планировки жилого комплекса, который появится на месте сносимых «хрущевок» у станции Крюково.\\n\\nСоответствующие заключения по итогам слушаний опубликованы на сайте префектуры Зеленограда. Теперь проект реновации будет передан в Москву для дальнейшего согласования и утверждения.\\n\\nФормально по 19-му микрорайону проводились двое слушаний одновременно — по проекту планировки и по проекту внесения изменений в правила землепользования и застройки (ПЗЗ). Общее собрание состоялось 29 октября в школе в 23-м микрорайоне. Количество участников и поступивших отзывов подсчитывали по каждым слушаниям отдельно (поэтому на сайте префектуры опубликованы два пакета документов). Как указано в протоколах, подавляющее большинство — больше 450 человек — одобрили проект реновации. При этом комиссия не стала учитывать ксерокопии 30 листов с 211 подписями, так как не смогла установить их подлинность. Эти отзывы представила участница слушаний Элла Анфимова, критиковавшая проект.\\n\\nВсем, кто выступал против уплотнения застройки 19-го микрорайона и высказывал недовольство малым количеством парковочных мест, в градостроительной комиссии ответили такими тезисами: расчетная плотность застройки квартала реновации (13,7 тыс. кв. м / га) соответствует нормам; высота застройки составляет 7–14 этажей с отдельными акцентами до 23 этажей, что соответствует архитектурному стилю района Крюково и не противоречит действующим градостроительным нормам; проектом предусмотрено максимальное размещение наземных парковок вне дворовых пространств, все жилые дома расположены в радиусе не более 500 метров от многоуровневых парковок.\\n\\nО том, как проходили публичные слушания, Инфопортал подробно писал здесь.\\nНапомним, на месте 23 «хрущевок» в 19-м микрорайоне собираются построить 22 жилых дома высотой от 7 до 23 этажей с двумя подземными гаражами на 104 места. Помимо жилья там планируют построить детскую поликлинику на 320 посещений в смену (рядом со школой №1912 между Крюковской эстакадой и 18-м микрорайоном), два детских сада на 350 и 100 мест, школу на 600 мест со стадионом, двухэтажный ФОК с бассейном, два многоуровневых паркинга на 300 и 620 машин, общественно-деловой центр, культурный центр, два объекта торговли и объект общепита. Реконструкция микрорайона предполагает расширение проезжей части Заводской улицы (с 10,5 до 15 метров), Советской улицы (с 6 до 11 метров) и улицы 1 Мая (с 6 до 9 метров), открытие двух новых автобусных остановок на Заводской улице и обустройство велодорожки вдоль Георгиевского проспекта, улицы Летчицы Тарасовой и улицы 1 Мая. Траекторию Заводской улицы собираются изменить, ликвидировав перекресток с улицей Радио у «старого» моста через ОЖД.\\n\\nВместе с «хрущевками» снесут здание ГИБДД, недострой ФГУП ИППМ РАН, магазин мебели (Заводская улица, дом 18, строение 11), часть зданий лесоторговой базы (Овражная улица, дом 17а, строения 2 и 3), производственное здание (улица Радио, дом 23, строение 9), склад (Заводская улица, дом 1) и двухэтажный кирпичный дом на улице 1 Мая, за сохранение которого боролись местные краеведы, но власти Москвы не признали его памятником истории.\\n\\nПод снос не попадают 16-этажный корпус 1925 (в народе — «цыганская башня»), 12 частных домовладений, три нежилых дома (высотой 2–3 этажа) на улице 1 Мая, две нежилые двухэтажки на Заводской улице, реабилитационный центр для инвалидов «Ремесла» и здание МФЮА.\\n']"
      ]
     },
     "execution_count": 60,
     "metadata": {},
     "output_type": "execute_result"
    }
   ],
   "source": [
    "zel"
   ]
  },
  {
   "cell_type": "code",
   "execution_count": 61,
   "metadata": {},
   "outputs": [],
   "source": [
    "zel_prep = list(map(_foo, zel))"
   ]
  },
  {
   "cell_type": "code",
   "execution_count": 62,
   "metadata": {},
   "outputs": [],
   "source": [
    "preds = clf.predict(zel_prep)"
   ]
  },
  {
   "cell_type": "code",
   "execution_count": 63,
   "metadata": {},
   "outputs": [
    {
     "data": {
      "text/plain": [
       "array(['neutral', 'negative', 'neutral', 'neutral', 'neutral', 'positive',\n",
       "       'negative', 'neutral', 'neutral', 'neutral'], dtype=object)"
      ]
     },
     "execution_count": 63,
     "metadata": {},
     "output_type": "execute_result"
    }
   ],
   "source": [
    "preds"
   ]
  },
  {
   "cell_type": "code",
   "execution_count": null,
   "metadata": {},
   "outputs": [],
   "source": []
  }
 ],
 "metadata": {
  "kernelspec": {
   "display_name": "eli",
   "language": "python",
   "name": "eli"
  },
  "language_info": {
   "codemirror_mode": {
    "name": "ipython",
    "version": 3
   },
   "file_extension": ".py",
   "mimetype": "text/x-python",
   "name": "python",
   "nbconvert_exporter": "python",
   "pygments_lexer": "ipython3",
   "version": "3.7.3"
  }
 },
 "nbformat": 4,
 "nbformat_minor": 2
}
