{
 "cells": [
  {
   "cell_type": "code",
   "execution_count": 1,
   "metadata": {},
   "outputs": [],
   "source": [
    "import numpy as np\n",
    "import pandas as pd\n",
    "import seaborn as sns\n",
    "\n",
    "sns.set(style=\"darkgrid\")"
   ]
  },
  {
   "cell_type": "markdown",
   "metadata": {},
   "source": [
    "<h3>Кармазин Василий ПИН-43</h3>\n",
    "<br><br>\n",
    "<center>\n",
    "    <h1>Лабораторная работа №1</h1>\n",
    "    <h2>Моделирование измерения скорости полёта пули</h2>\n",
    "</center>"
   ]
  },
  {
   "cell_type": "markdown",
   "metadata": {},
   "source": [
    "<h3>Цель работы:</h3>\n",
    "Исследовать три модели измерения скорости пули."
   ]
  },
  {
   "cell_type": "markdown",
   "metadata": {},
   "source": [
    "<center>\n",
    "    <h3>1. Модель, использующая силу притяжения земли.</h3>\n",
    "</center>"
   ]
  },
  {
   "cell_type": "markdown",
   "metadata": {},
   "source": [
    "<h4>Описание модели:</h4>\n",
    "Стрельба строго в горизонтальном направлении с\n",
    "измерением дальности полета пули. Ружье жестко закреплено параллельно\n",
    "земле на высоте h.\n",
    "\n",
    "В данной модели мы предполагаем, что:\n",
    "- нет сопротивления воздуха\n",
    "- выстрел производится параллельно поверхности земли, т.е. горизонтально\n",
    "- стрельба происходит без отдачи, за счет массы стенда\n",
    "- не учитывается кривизна земли\n",
    "- не учитывается погрешность ружья"
   ]
  },
  {
   "cell_type": "markdown",
   "metadata": {},
   "source": [
    "<h4>Дано:</h4>\n",
    "\n",
    "- $h = 1\\ м$, высота установки\n",
    "- $g = 9.81\\ м/с^2$, ускорение свободного падения\n",
    "- $v = 800\\ м/с$, эталонная скорость пули"
   ]
  },
  {
   "cell_type": "code",
   "execution_count": 2,
   "metadata": {},
   "outputs": [],
   "source": [
    "h = 1\n",
    "g = 9.81\n",
    "V_mean = 800"
   ]
  },
  {
   "cell_type": "markdown",
   "metadata": {},
   "source": [
    "<h4>Построение модели:</h4>\n",
    "\n",
    "Составим уравнения координат полёта пули\n",
    "\n",
    "\\begin{cases} \n",
    "x = vt \\\\\n",
    "y = h - \\dfrac{gt^2}{2}\n",
    "\\end{cases}\n",
    "\n",
    "$x$ - координата пули по горизонтали\n",
    "\n",
    "$y$ - координата пули по вертикали\n",
    "\n",
    "$h$ - высота установки\n",
    "\n",
    "$g$ - ускорение свободного падения\n",
    "\n",
    "$v$ - начальная скорость пули\n",
    "\n",
    "$t$ - время полёта пули"
   ]
  },
  {
   "cell_type": "markdown",
   "metadata": {},
   "source": [
    "Пусть $L$ - расстоянеие, которое пролетеля пуля, тогда из уравнений получим\n",
    "\n",
    "\\begin{cases} \n",
    "L = vt \\\\\n",
    "0 = h - \\dfrac{gt^2}{2}\n",
    "\\end{cases}\n",
    "\n",
    "Выразим из системы скорость $v$\n",
    "\n",
    "\\begin{cases} \n",
    "v = \\dfrac{L}{t} \\\\\n",
    "t = \\sqrt{\\dfrac{gt^2}{2}}\n",
    "\\end{cases}\n",
    "\n",
    "Исключая время $t$ из системы, получаем\n",
    "\n",
    "<center>\n",
    "    $v=L\\sqrt{\\dfrac{2}{gt^2}}$\n",
    "</center>"
   ]
  },
  {
   "cell_type": "code",
   "execution_count": 3,
   "metadata": {},
   "outputs": [],
   "source": [
    "def t():\n",
    "    return np.sqrt(2*h/g)\n",
    "\n",
    "def V(L):\n",
    "    return L / t()"
   ]
  },
  {
   "cell_type": "markdown",
   "metadata": {},
   "source": [
    "<h4>Проверка модели:</h4>\n",
    "\n",
    "Проведём $N_{exp} = 100$ экспериментов, с различным расстоянием, которое пролетела пуля"
   ]
  },
  {
   "cell_type": "code",
   "execution_count": 4,
   "metadata": {},
   "outputs": [],
   "source": [
    "N_exp = 100"
   ]
  },
  {
   "cell_type": "markdown",
   "metadata": {},
   "source": [
    "Зная эталонную скорость пули в $V_{mean} = 800\\ м/с$, найдём математическое ожидание пройдённого пулей расстояния $L_{mean}$\n",
    "\n",
    "Считаем, что ошибка равна $L_{std} = 1\\%$  от расстояния"
   ]
  },
  {
   "cell_type": "code",
   "execution_count": 5,
   "metadata": {},
   "outputs": [
    {
     "name": "stdout",
     "output_type": "stream",
     "text": [
      "Mean: 361.2189127885847\n",
      "Std: 3.612189127885847\n"
     ]
    }
   ],
   "source": [
    "L_mean = V_mean*t()\n",
    "L_std = L_mean*0.01\n",
    "print(f'Mean: {L_mean}\\nStd: {L_std}')"
   ]
  },
  {
   "cell_type": "markdown",
   "metadata": {},
   "source": [
    "Будем семплировать пройденное расстояние $L_{exp}$ из нормального распределения с данными параметрами\n",
    "\n",
    "Посмотрим на результаты модели $V_{exp}$ для данной выборки"
   ]
  },
  {
   "cell_type": "code",
   "execution_count": 6,
   "metadata": {},
   "outputs": [],
   "source": [
    "L_exp = np.random.normal(L_mean, L_std, N_exp)\n",
    "V_exp = V(L_exp)"
   ]
  },
  {
   "cell_type": "code",
   "execution_count": 7,
   "metadata": {},
   "outputs": [
    {
     "data": {
      "text/html": [
       "<div>\n",
       "<style scoped>\n",
       "    .dataframe tbody tr th:only-of-type {\n",
       "        vertical-align: middle;\n",
       "    }\n",
       "\n",
       "    .dataframe tbody tr th {\n",
       "        vertical-align: top;\n",
       "    }\n",
       "\n",
       "    .dataframe thead th {\n",
       "        text-align: right;\n",
       "    }\n",
       "</style>\n",
       "<table border=\"1\" class=\"dataframe\">\n",
       "  <thead>\n",
       "    <tr style=\"text-align: right;\">\n",
       "      <th></th>\n",
       "      <th>L</th>\n",
       "      <th>V</th>\n",
       "    </tr>\n",
       "  </thead>\n",
       "  <tbody>\n",
       "    <tr>\n",
       "      <th>0</th>\n",
       "      <td>364.648106</td>\n",
       "      <td>807.594714</td>\n",
       "    </tr>\n",
       "    <tr>\n",
       "      <th>1</th>\n",
       "      <td>357.620531</td>\n",
       "      <td>792.030578</td>\n",
       "    </tr>\n",
       "    <tr>\n",
       "      <th>2</th>\n",
       "      <td>360.062354</td>\n",
       "      <td>797.438543</td>\n",
       "    </tr>\n",
       "    <tr>\n",
       "      <th>3</th>\n",
       "      <td>355.030359</td>\n",
       "      <td>786.294066</td>\n",
       "    </tr>\n",
       "    <tr>\n",
       "      <th>4</th>\n",
       "      <td>359.422072</td>\n",
       "      <td>796.020494</td>\n",
       "    </tr>\n",
       "    <tr>\n",
       "      <th>5</th>\n",
       "      <td>361.903923</td>\n",
       "      <td>801.517107</td>\n",
       "    </tr>\n",
       "    <tr>\n",
       "      <th>6</th>\n",
       "      <td>358.784231</td>\n",
       "      <td>794.607852</td>\n",
       "    </tr>\n",
       "    <tr>\n",
       "      <th>7</th>\n",
       "      <td>356.129978</td>\n",
       "      <td>788.729418</td>\n",
       "    </tr>\n",
       "    <tr>\n",
       "      <th>8</th>\n",
       "      <td>360.387969</td>\n",
       "      <td>798.159688</td>\n",
       "    </tr>\n",
       "    <tr>\n",
       "      <th>9</th>\n",
       "      <td>357.987594</td>\n",
       "      <td>792.843523</td>\n",
       "    </tr>\n",
       "  </tbody>\n",
       "</table>\n",
       "</div>"
      ],
      "text/plain": [
       "            L           V\n",
       "0  364.648106  807.594714\n",
       "1  357.620531  792.030578\n",
       "2  360.062354  797.438543\n",
       "3  355.030359  786.294066\n",
       "4  359.422072  796.020494\n",
       "5  361.903923  801.517107\n",
       "6  358.784231  794.607852\n",
       "7  356.129978  788.729418\n",
       "8  360.387969  798.159688\n",
       "9  357.987594  792.843523"
      ]
     },
     "execution_count": 7,
     "metadata": {},
     "output_type": "execute_result"
    }
   ],
   "source": [
    "exp_df = pd.DataFrame({'L': L_exp, 'V': V_exp})\n",
    "exp_df.head(10)"
   ]
  },
  {
   "cell_type": "code",
   "execution_count": 8,
   "metadata": {},
   "outputs": [
    {
     "data": {
      "image/png": "[encoded data removed]",
      "text/plain": [
       "<Figure size 504x504 with 3 Axes>"
      ]
     },
     "metadata": {
      "needs_background": "light"
     },
     "output_type": "display_data"
    }
   ],
   "source": [
    "sns.jointplot('L', 'V', data=exp_df, kind='reg', color='m', height=7);\n",
    "sns.scatterplot([L_mean], [V_mean], color='r', marker='+', s=2000);"
   ]
  },
  {
   "cell_type": "code",
   "execution_count": 9,
   "metadata": {},
   "outputs": [
    {
     "data": {
      "text/html": [
       "<div>\n",
       "<style scoped>\n",
       "    .dataframe tbody tr th:only-of-type {\n",
       "        vertical-align: middle;\n",
       "    }\n",
       "\n",
       "    .dataframe tbody tr th {\n",
       "        vertical-align: top;\n",
       "    }\n",
       "\n",
       "    .dataframe thead th {\n",
       "        text-align: right;\n",
       "    }\n",
       "</style>\n",
       "<table border=\"1\" class=\"dataframe\">\n",
       "  <thead>\n",
       "    <tr style=\"text-align: right;\">\n",
       "      <th></th>\n",
       "      <th>L</th>\n",
       "      <th>V</th>\n",
       "    </tr>\n",
       "  </thead>\n",
       "  <tbody>\n",
       "    <tr>\n",
       "      <th>count</th>\n",
       "      <td>100.000000</td>\n",
       "      <td>100.000000</td>\n",
       "    </tr>\n",
       "    <tr>\n",
       "      <th>mean</th>\n",
       "      <td>361.109295</td>\n",
       "      <td>799.757228</td>\n",
       "    </tr>\n",
       "    <tr>\n",
       "      <th>std</th>\n",
       "      <td>3.740231</td>\n",
       "      <td>8.283578</td>\n",
       "    </tr>\n",
       "    <tr>\n",
       "      <th>min</th>\n",
       "      <td>350.061541</td>\n",
       "      <td>775.289508</td>\n",
       "    </tr>\n",
       "    <tr>\n",
       "      <th>25%</th>\n",
       "      <td>358.809011</td>\n",
       "      <td>794.662735</td>\n",
       "    </tr>\n",
       "    <tr>\n",
       "      <th>50%</th>\n",
       "      <td>361.469877</td>\n",
       "      <td>800.555817</td>\n",
       "    </tr>\n",
       "    <tr>\n",
       "      <th>75%</th>\n",
       "      <td>363.844473</td>\n",
       "      <td>805.814889</td>\n",
       "    </tr>\n",
       "    <tr>\n",
       "      <th>max</th>\n",
       "      <td>369.197778</td>\n",
       "      <td>817.670979</td>\n",
       "    </tr>\n",
       "  </tbody>\n",
       "</table>\n",
       "</div>"
      ],
      "text/plain": [
       "                L           V\n",
       "count  100.000000  100.000000\n",
       "mean   361.109295  799.757228\n",
       "std      3.740231    8.283578\n",
       "min    350.061541  775.289508\n",
       "25%    358.809011  794.662735\n",
       "50%    361.469877  800.555817\n",
       "75%    363.844473  805.814889\n",
       "max    369.197778  817.670979"
      ]
     },
     "execution_count": 9,
     "metadata": {},
     "output_type": "execute_result"
    }
   ],
   "source": [
    "exp_df.describe()"
   ]
  },
  {
   "cell_type": "markdown",
   "metadata": {},
   "source": [
    "<center>\n",
    "    <h3>2. Модель, использующая закон сохранения энергии.</h3>\n",
    "</center>"
   ]
  },
  {
   "cell_type": "markdown",
   "metadata": {},
   "source": [
    "<h4>Описание модели:</h4>\n",
    "Стрельба строго в горизонтальном направлении по ящику с песком массы $M$, закрепленном на стержне длинны $l$. Пуля массы $m$ попадает в ящик, стержень отклоняется на угол $a$.\n",
    "\n",
    "В данной модели мы предполагаем, что:\n",
    "- нет сопротивления воздуха\n",
    "- стержень нерастяжим\n",
    "- вся кинетическая энергия движения пули переходит в кинетическую энергию ящика с песком и пулей"
   ]
  },
  {
   "cell_type": "markdown",
   "metadata": {},
   "source": [
    "<h4>Дано:</h4>\n",
    "\n",
    "- $l = 5\\ м$, длина стержня\n",
    "- $g = 9.81\\ м/с^2$, ускорение свободного падения\n",
    "- $a = \\dfrac{\\pi}{12}\\ rad$, эталонный угол отклонения\n",
    "- $M = 10\\ кг$, масса мешка с песком\n",
    "- $m = 0.01\\ кг$, масса пули"
   ]
  },
  {
   "cell_type": "code",
   "execution_count": 10,
   "metadata": {},
   "outputs": [],
   "source": [
    "l = 5\n",
    "g = 9.81\n",
    "a_mean = np.pi/12\n",
    "M = 10\n",
    "m = 0.01"
   ]
  },
  {
   "cell_type": "markdown",
   "metadata": {},
   "source": [
    "<h4>Построение модели:</h4>\n",
    "\n",
    "Пуля, застрявшая в грузе, сообщит системе “пуля-груз” свою кинетическую энергию, которая в момент наибольшего отклонения стержня от вертикали полностью перейдет в потенциальную энергию системы. \n",
    "\n",
    "<br>\n",
    "<center>\n",
    "    <b>Закон сохранения энергии</b>\n",
    "</center>\n",
    "<center>\n",
    "    $E_{к} = \\dfrac{mv^2}{2},\\ E_{п} = mgh$\n",
    "</center>\n",
    "\n",
    "<center>\n",
    "    $E_{к_{пуля}} = E_{к_{пуля-груз}} = E_{п_{пуля-груз}}$\n",
    "</center>\n",
    "\n",
    "Использовав ЗСЭ получим цепочку равенств\n",
    "\n",
    "<center>\n",
    "    $\\dfrac{mv^2}{2} = \\dfrac{(m+M)u^2}{2} = (m+M)gl(1-\\cos{a})$\n",
    "</center>\n",
    "\n",
    "- $M$ - масса груза\n",
    "- $m$ - масса пули\n",
    "- $v$ - начальная скорость пули\n",
    "- $u$ - скорость системы \"пуля-груз\" после столкноения\n",
    "- $g$ - ускорение свободного падения\n",
    "- $a$ - угол наибольшего отклонения\n",
    "- $l$ - длина стержня"
   ]
  },
  {
   "cell_type": "markdown",
   "metadata": {},
   "source": [
    "Из цепочки получаем \n",
    "\n",
    "<center>\n",
    "    $\\dfrac{mv^2}{2} = (m+M)gl(1-\\cos{a})$\n",
    "</center>\n",
    "\n",
    "Выражая скорость пули $v$, получаем формулу\n",
    "\n",
    "<center>\n",
    "    $v=\\sqrt{\\dfrac{2(m+M)gl(1-\\cos{a})}{m}}$\n",
    "</center>\n",
    "\n",
    "Выразим угол отклонения стержня $a$ для его оценки\n",
    "\n",
    "<center>\n",
    "    $a=\\arccos{\\left(1 - \\dfrac{mv^2}{2(m+M)gl}\\right)}$\n",
    "</center>"
   ]
  },
  {
   "cell_type": "code",
   "execution_count": 11,
   "metadata": {},
   "outputs": [],
   "source": [
    "def alpha(v):\n",
    "    return np.arccos(1 - (m*v**2)/(2*(m+M)*g*l))\n",
    "\n",
    "def V(a):\n",
    "    return np.sqrt((2*(m+M)*g*l*(1-np.cos(a)))/m)"
   ]
  },
  {
   "cell_type": "markdown",
   "metadata": {},
   "source": [
    "<h4>Проверка модели:</h4>\n",
    "\n",
    "Проведём $N_{exp} = 100$ экспериментов, с различным отклонением стержня установки"
   ]
  },
  {
   "cell_type": "code",
   "execution_count": 12,
   "metadata": {},
   "outputs": [],
   "source": [
    "N_exp = 100"
   ]
  },
  {
   "cell_type": "markdown",
   "metadata": {},
   "source": [
    "Зная эталонный угол отклонения стержня $a_{mean}$, найдём математическое ожидание скорости пули $V_{mean}$\n",
    "\n",
    "Считаем, что ошибка равна $V_{std} = 1\\%$ от скорости"
   ]
  },
  {
   "cell_type": "code",
   "execution_count": 13,
   "metadata": {},
   "outputs": [
    {
     "name": "stdout",
     "output_type": "stream",
     "text": [
      "Mean: 57.84478470427079\n",
      "Std: 0.5784478470427079\n"
     ]
    }
   ],
   "source": [
    "V_mean = V(a_mean)\n",
    "V_std = V_mean*0.01\n",
    "print(f'Mean: {V_mean}\\nStd: {V_std}')"
   ]
  },
  {
   "cell_type": "markdown",
   "metadata": {},
   "source": [
    "Будем семплировать угол отклонения $a_{exp}$ в радианах из нормального распределения с данными параметрами\n",
    "\n",
    "Посмотрим на результаты модели $V_{exp}$ для данной выборки"
   ]
  },
  {
   "cell_type": "code",
   "execution_count": 14,
   "metadata": {},
   "outputs": [],
   "source": [
    "V_exp = np.random.normal(V_mean, V_std, N_exp)\n",
    "a_exp = alpha(V_exp)"
   ]
  },
  {
   "cell_type": "code",
   "execution_count": 15,
   "metadata": {},
   "outputs": [
    {
     "data": {
      "text/html": [
       "<div>\n",
       "<style scoped>\n",
       "    .dataframe tbody tr th:only-of-type {\n",
       "        vertical-align: middle;\n",
       "    }\n",
       "\n",
       "    .dataframe tbody tr th {\n",
       "        vertical-align: top;\n",
       "    }\n",
       "\n",
       "    .dataframe thead th {\n",
       "        text-align: right;\n",
       "    }\n",
       "</style>\n",
       "<table border=\"1\" class=\"dataframe\">\n",
       "  <thead>\n",
       "    <tr style=\"text-align: right;\">\n",
       "      <th></th>\n",
       "      <th>a_rad</th>\n",
       "      <th>a_deg</th>\n",
       "      <th>V</th>\n",
       "    </tr>\n",
       "  </thead>\n",
       "  <tbody>\n",
       "    <tr>\n",
       "      <th>0</th>\n",
       "      <td>0.264390</td>\n",
       "      <td>15.148406</td>\n",
       "      <td>58.413764</td>\n",
       "    </tr>\n",
       "    <tr>\n",
       "      <th>1</th>\n",
       "      <td>0.258400</td>\n",
       "      <td>14.805211</td>\n",
       "      <td>57.097830</td>\n",
       "    </tr>\n",
       "    <tr>\n",
       "      <th>2</th>\n",
       "      <td>0.262135</td>\n",
       "      <td>15.019255</td>\n",
       "      <td>57.918613</td>\n",
       "    </tr>\n",
       "    <tr>\n",
       "      <th>3</th>\n",
       "      <td>0.262279</td>\n",
       "      <td>15.027485</td>\n",
       "      <td>57.950170</td>\n",
       "    </tr>\n",
       "    <tr>\n",
       "      <th>4</th>\n",
       "      <td>0.262644</td>\n",
       "      <td>15.048413</td>\n",
       "      <td>58.030407</td>\n",
       "    </tr>\n",
       "    <tr>\n",
       "      <th>5</th>\n",
       "      <td>0.265757</td>\n",
       "      <td>15.226736</td>\n",
       "      <td>58.714037</td>\n",
       "    </tr>\n",
       "    <tr>\n",
       "      <th>6</th>\n",
       "      <td>0.258747</td>\n",
       "      <td>14.825123</td>\n",
       "      <td>57.174193</td>\n",
       "    </tr>\n",
       "    <tr>\n",
       "      <th>7</th>\n",
       "      <td>0.262609</td>\n",
       "      <td>15.046390</td>\n",
       "      <td>58.022653</td>\n",
       "    </tr>\n",
       "    <tr>\n",
       "      <th>8</th>\n",
       "      <td>0.261304</td>\n",
       "      <td>14.971613</td>\n",
       "      <td>57.735939</td>\n",
       "    </tr>\n",
       "    <tr>\n",
       "      <th>9</th>\n",
       "      <td>0.266282</td>\n",
       "      <td>15.256809</td>\n",
       "      <td>58.829314</td>\n",
       "    </tr>\n",
       "  </tbody>\n",
       "</table>\n",
       "</div>"
      ],
      "text/plain": [
       "      a_rad      a_deg          V\n",
       "0  0.264390  15.148406  58.413764\n",
       "1  0.258400  14.805211  57.097830\n",
       "2  0.262135  15.019255  57.918613\n",
       "3  0.262279  15.027485  57.950170\n",
       "4  0.262644  15.048413  58.030407\n",
       "5  0.265757  15.226736  58.714037\n",
       "6  0.258747  14.825123  57.174193\n",
       "7  0.262609  15.046390  58.022653\n",
       "8  0.261304  14.971613  57.735939\n",
       "9  0.266282  15.256809  58.829314"
      ]
     },
     "execution_count": 15,
     "metadata": {},
     "output_type": "execute_result"
    }
   ],
   "source": [
    "energy_exp_df = pd.DataFrame({\n",
    "    'a_rad': a_exp, 'a_deg': np.rad2deg(a_exp), \n",
    "    'V': V_exp\n",
    "})\n",
    "energy_exp_df.head(10)"
   ]
  },
  {
   "cell_type": "code",
   "execution_count": 16,
   "metadata": {},
   "outputs": [
    {
     "data": {
      "image/png": "[encoded data removed]",
      "text/plain": [
       "<Figure size 504x504 with 3 Axes>"
      ]
     },
     "metadata": {
      "needs_background": "light"
     },
     "output_type": "display_data"
    }
   ],
   "source": [
    "sns.jointplot('a_deg', 'V', data=energy_exp_df, \n",
    "              kind='reg', color='c', height=7);\n",
    "sns.scatterplot([np.rad2deg(a_mean)], [V_mean], \n",
    "                color='m', marker='+', s=2000);"
   ]
  },
  {
   "cell_type": "code",
   "execution_count": 17,
   "metadata": {},
   "outputs": [
    {
     "data": {
      "text/html": [
       "<div>\n",
       "<style scoped>\n",
       "    .dataframe tbody tr th:only-of-type {\n",
       "        vertical-align: middle;\n",
       "    }\n",
       "\n",
       "    .dataframe tbody tr th {\n",
       "        vertical-align: top;\n",
       "    }\n",
       "\n",
       "    .dataframe thead th {\n",
       "        text-align: right;\n",
       "    }\n",
       "</style>\n",
       "<table border=\"1\" class=\"dataframe\">\n",
       "  <thead>\n",
       "    <tr style=\"text-align: right;\">\n",
       "      <th></th>\n",
       "      <th>a_rad</th>\n",
       "      <th>a_deg</th>\n",
       "      <th>V</th>\n",
       "    </tr>\n",
       "  </thead>\n",
       "  <tbody>\n",
       "    <tr>\n",
       "      <th>count</th>\n",
       "      <td>100.000000</td>\n",
       "      <td>100.000000</td>\n",
       "      <td>100.000000</td>\n",
       "    </tr>\n",
       "    <tr>\n",
       "      <th>mean</th>\n",
       "      <td>0.261588</td>\n",
       "      <td>14.987914</td>\n",
       "      <td>57.798405</td>\n",
       "    </tr>\n",
       "    <tr>\n",
       "      <th>std</th>\n",
       "      <td>0.002309</td>\n",
       "      <td>0.132276</td>\n",
       "      <td>0.507194</td>\n",
       "    </tr>\n",
       "    <tr>\n",
       "      <th>min</th>\n",
       "      <td>0.256534</td>\n",
       "      <td>14.698332</td>\n",
       "      <td>56.687908</td>\n",
       "    </tr>\n",
       "    <tr>\n",
       "      <th>25%</th>\n",
       "      <td>0.260090</td>\n",
       "      <td>14.902062</td>\n",
       "      <td>57.469243</td>\n",
       "    </tr>\n",
       "    <tr>\n",
       "      <th>50%</th>\n",
       "      <td>0.261787</td>\n",
       "      <td>14.999316</td>\n",
       "      <td>57.842164</td>\n",
       "    </tr>\n",
       "    <tr>\n",
       "      <th>75%</th>\n",
       "      <td>0.263256</td>\n",
       "      <td>15.083451</td>\n",
       "      <td>58.164741</td>\n",
       "    </tr>\n",
       "    <tr>\n",
       "      <th>max</th>\n",
       "      <td>0.266396</td>\n",
       "      <td>15.263351</td>\n",
       "      <td>58.854389</td>\n",
       "    </tr>\n",
       "  </tbody>\n",
       "</table>\n",
       "</div>"
      ],
      "text/plain": [
       "            a_rad       a_deg           V\n",
       "count  100.000000  100.000000  100.000000\n",
       "mean     0.261588   14.987914   57.798405\n",
       "std      0.002309    0.132276    0.507194\n",
       "min      0.256534   14.698332   56.687908\n",
       "25%      0.260090   14.902062   57.469243\n",
       "50%      0.261787   14.999316   57.842164\n",
       "75%      0.263256   15.083451   58.164741\n",
       "max      0.266396   15.263351   58.854389"
      ]
     },
     "execution_count": 17,
     "metadata": {},
     "output_type": "execute_result"
    }
   ],
   "source": [
    "energy_exp_df.describe()"
   ]
  },
  {
   "cell_type": "markdown",
   "metadata": {},
   "source": [
    "<center>\n",
    "    <h3>3. Модель, использующая закон сохранения импульса и энергии.</h3>\n",
    "</center>"
   ]
  },
  {
   "cell_type": "markdown",
   "metadata": {},
   "source": [
    "<h4>Описание модели:</h4>\n",
    "Стрельба строго в горизонтальном направлении по ящику с песком массы $M$, закрепленном на стержне длинны $l$. Пуля массы $m$ попадает в ящик, стержень отклоняется на угол $a$.\n",
    "\n",
    "В данной модели мы предполагаем, что:\n",
    "- нет сопротивления воздуха\n",
    "- стержень нерастяжим\n",
    "- вся кинетическая энергия движения пули переходит в кинетическую энергию ящика с песком и пулей"
   ]
  },
  {
   "cell_type": "markdown",
   "metadata": {},
   "source": [
    "<h4>Дано:</h4>\n",
    "\n",
    "- $l = 5\\ м$, длина стержня\n",
    "- $g = 9.81\\ м/с^2$, ускорение свободного падения\n",
    "- $a = \\dfrac{\\pi}{12}\\ rad$, эталонный угол отклонения\n",
    "- $M = 10\\ кг$, масса мешка с песком\n",
    "- $m = 0.01\\ кг$, масса пули"
   ]
  },
  {
   "cell_type": "code",
   "execution_count": 18,
   "metadata": {},
   "outputs": [],
   "source": [
    "l = 5\n",
    "g = 9.81\n",
    "a_mean = np.pi/12\n",
    "M = 10\n",
    "m = 0.01"
   ]
  },
  {
   "cell_type": "markdown",
   "metadata": {},
   "source": [
    "<h4>Построение модели:</h4>\n",
    "\n",
    "Пуля, застрявшая в грузе, сообщит системе “пуля-груз” свой импульс и  кинетическую энергию, которая в момент наибольшего отклонения стержня от вертикали полностью перейдет в потенциальную энергию системы. \n",
    "\n",
    "<br>\n",
    "<center>\n",
    "    <b>Закон сохранения испульса</b>\n",
    "</center>\n",
    "<center>\n",
    "    $mv = (M+m)u$\n",
    "</center>\n",
    "\n",
    "- $M$ - масса груза\n",
    "- $m$ - масса пули\n",
    "- $v$ - начальная скорость пули\n",
    "- $u$ - скорость системы \"пуля-груз\" после столкноения\n",
    "\n",
    "Выразим скорость после столкновения $u$\n",
    "<center>\n",
    "    $u = \\dfrac{mv}{M+m}$\n",
    "</center>\n",
    "\n",
    "<br>\n",
    "<center>\n",
    "    <b>Закон сохранения энергии</b>\n",
    "</center>\n",
    "<center>\n",
    "    $E_{к} = \\dfrac{mv^2}{2},\\ E_{п} = mgh$\n",
    "</center>\n",
    "\n",
    "<center>\n",
    "    $E_{к_{пуля}} = E_{к_{пуля-груз}} = E_{п_{пуля-груз}}$\n",
    "</center>\n",
    "\n",
    "Использовав ЗСЭ получим цепочку равенств\n",
    "\n",
    "<center>\n",
    "    $\\dfrac{mv^2}{2} = \\dfrac{(m+M)u^2}{2} = (m+M)gl(1-\\cos{a})$\n",
    "</center>\n",
    "\n",
    "- $M$ - масса груза\n",
    "- $m$ - масса пули\n",
    "- $v$ - начальная скорость пули\n",
    "- $u$ - скорость системы \"пуля-груз\" после столкноения\n",
    "- $g$ - ускорение свободного падения\n",
    "- $a$ - угол наибольшего отклонения\n",
    "- $l$ - длина стержня"
   ]
  },
  {
   "cell_type": "markdown",
   "metadata": {},
   "source": [
    "Из цепочки получаем ЗСЭ\n",
    "\n",
    "<center>\n",
    "    $\\dfrac{(m+M)u^2}{2} = (m+M)gl(1-\\cos{a})$\n",
    "</center>\n",
    "\n",
    "Упростим и выразим скорость после столконовения $u$\n",
    "<center>\n",
    "    $u = \\sqrt{2gl(1-\\cos{a})}$\n",
    "</center>\n",
    "\n",
    "\n",
    "Подставляем $u$ из ЗСИ\n",
    "\n",
    "<center>\n",
    "    $\\dfrac{mv}{M+m} = \\sqrt{2gl(1-\\cos{a})}$\n",
    "</center>\n",
    "\n",
    "\n",
    "Выражая скорость пули $v$, получаем формулу\n",
    "\n",
    "<center>\n",
    "    $v=\\dfrac{M+m}{m}\\sqrt{2gl(1-\\cos{a})}$\n",
    "</center>\n",
    "\n",
    "Выразим угол отклонения стержня $a$ для его оценки\n",
    "\n",
    "<center>\n",
    "    $a=\\arccos{\\left(1-\\left(\\dfrac{mv}{M+m}\\right)^2\\dfrac{1}{gl}\\right)}$\n",
    "</center>"
   ]
  },
  {
   "cell_type": "code",
   "execution_count": 19,
   "metadata": {},
   "outputs": [],
   "source": [
    "def alpha(v):\n",
    "    return np.arccos(1 - ((m*v)/(M+m))**2 * (1/(g*l)))\n",
    "    \n",
    "def V(a):\n",
    "    return ((M+m)/m)*np.sqrt(g*l*(1-np.cos(a)))"
   ]
  },
  {
   "cell_type": "markdown",
   "metadata": {},
   "source": [
    "<h4>Проверка модели:</h4>\n",
    "\n",
    "Проведём $N_{exp} = 100$ экспериментов, с различным отклонением стержня установки"
   ]
  },
  {
   "cell_type": "code",
   "execution_count": 20,
   "metadata": {},
   "outputs": [],
   "source": [
    "N_exp = 100"
   ]
  },
  {
   "cell_type": "markdown",
   "metadata": {},
   "source": [
    "Зная эталонный угол отклонения стержня $a_{mean}$, найдём математическое ожидание скорости пули $V_{mean}$\n",
    "\n",
    "Считаем, что ошибка равна $V_{std} = 1\\%$ от скорости"
   ]
  },
  {
   "cell_type": "code",
   "execution_count": 21,
   "metadata": {},
   "outputs": [
    {
     "name": "stdout",
     "output_type": "stream",
     "text": [
      "Mean: 1294.0952701793103\n",
      "Std: 12.940952701793103\n"
     ]
    }
   ],
   "source": [
    "V_mean = V(a_mean)\n",
    "V_std = V_mean*0.01\n",
    "print(f'Mean: {V_mean}\\nStd: {V_std}')"
   ]
  },
  {
   "cell_type": "markdown",
   "metadata": {},
   "source": [
    "Будем семплировать угол отклонения $a_{exp}$ в радианах из нормального распределения с данными параметрами\n",
    "\n",
    "Посмотрим на результаты модели $V_{exp}$ для данной выборки"
   ]
  },
  {
   "cell_type": "code",
   "execution_count": 22,
   "metadata": {},
   "outputs": [],
   "source": [
    "V_exp = np.random.normal(V_mean, V_std, N_exp)\n",
    "a_exp = alpha(V_exp)"
   ]
  },
  {
   "cell_type": "code",
   "execution_count": 23,
   "metadata": {},
   "outputs": [
    {
     "data": {
      "text/html": [
       "<div>\n",
       "<style scoped>\n",
       "    .dataframe tbody tr th:only-of-type {\n",
       "        vertical-align: middle;\n",
       "    }\n",
       "\n",
       "    .dataframe tbody tr th {\n",
       "        vertical-align: top;\n",
       "    }\n",
       "\n",
       "    .dataframe thead th {\n",
       "        text-align: right;\n",
       "    }\n",
       "</style>\n",
       "<table border=\"1\" class=\"dataframe\">\n",
       "  <thead>\n",
       "    <tr style=\"text-align: right;\">\n",
       "      <th></th>\n",
       "      <th>a_rad</th>\n",
       "      <th>a_deg</th>\n",
       "      <th>V</th>\n",
       "    </tr>\n",
       "  </thead>\n",
       "  <tbody>\n",
       "    <tr>\n",
       "      <th>0</th>\n",
       "      <td>0.260263</td>\n",
       "      <td>14.911949</td>\n",
       "      <td>1286.541882</td>\n",
       "    </tr>\n",
       "    <tr>\n",
       "      <th>1</th>\n",
       "      <td>0.261455</td>\n",
       "      <td>14.980248</td>\n",
       "      <td>1292.400904</td>\n",
       "    </tr>\n",
       "    <tr>\n",
       "      <th>2</th>\n",
       "      <td>0.263601</td>\n",
       "      <td>15.103198</td>\n",
       "      <td>1302.947009</td>\n",
       "    </tr>\n",
       "    <tr>\n",
       "      <th>3</th>\n",
       "      <td>0.262441</td>\n",
       "      <td>15.036750</td>\n",
       "      <td>1297.247589</td>\n",
       "    </tr>\n",
       "    <tr>\n",
       "      <th>4</th>\n",
       "      <td>0.257475</td>\n",
       "      <td>14.752226</td>\n",
       "      <td>1272.838298</td>\n",
       "    </tr>\n",
       "    <tr>\n",
       "      <th>5</th>\n",
       "      <td>0.260099</td>\n",
       "      <td>14.902600</td>\n",
       "      <td>1285.739873</td>\n",
       "    </tr>\n",
       "    <tr>\n",
       "      <th>6</th>\n",
       "      <td>0.265318</td>\n",
       "      <td>15.201599</td>\n",
       "      <td>1311.386340</td>\n",
       "    </tr>\n",
       "    <tr>\n",
       "      <th>7</th>\n",
       "      <td>0.262435</td>\n",
       "      <td>15.036432</td>\n",
       "      <td>1297.220315</td>\n",
       "    </tr>\n",
       "    <tr>\n",
       "      <th>8</th>\n",
       "      <td>0.260652</td>\n",
       "      <td>14.934272</td>\n",
       "      <td>1288.456917</td>\n",
       "    </tr>\n",
       "    <tr>\n",
       "      <th>9</th>\n",
       "      <td>0.264117</td>\n",
       "      <td>15.132798</td>\n",
       "      <td>1305.485769</td>\n",
       "    </tr>\n",
       "  </tbody>\n",
       "</table>\n",
       "</div>"
      ],
      "text/plain": [
       "      a_rad      a_deg            V\n",
       "0  0.260263  14.911949  1286.541882\n",
       "1  0.261455  14.980248  1292.400904\n",
       "2  0.263601  15.103198  1302.947009\n",
       "3  0.262441  15.036750  1297.247589\n",
       "4  0.257475  14.752226  1272.838298\n",
       "5  0.260099  14.902600  1285.739873\n",
       "6  0.265318  15.201599  1311.386340\n",
       "7  0.262435  15.036432  1297.220315\n",
       "8  0.260652  14.934272  1288.456917\n",
       "9  0.264117  15.132798  1305.485769"
      ]
     },
     "execution_count": 23,
     "metadata": {},
     "output_type": "execute_result"
    }
   ],
   "source": [
    "impulse_exp_df = pd.DataFrame({\n",
    "    'a_rad': a_exp, 'a_deg': np.rad2deg(a_exp), \n",
    "    'V': V_exp\n",
    "})\n",
    "impulse_exp_df.head(10)"
   ]
  },
  {
   "cell_type": "code",
   "execution_count": 24,
   "metadata": {},
   "outputs": [
    {
     "data": {
      "image/png": "[encoded data removed]",
      "text/plain": [
       "<Figure size 504x504 with 3 Axes>"
      ]
     },
     "metadata": {
      "needs_background": "light"
     },
     "output_type": "display_data"
    }
   ],
   "source": [
    "sns.jointplot('a_deg', 'V', data=impulse_exp_df, \n",
    "              kind='reg', color='g', height=7);\n",
    "sns.scatterplot([np.rad2deg(a_mean)], [V_mean], \n",
    "                color='c', marker='+', s=2000);"
   ]
  },
  {
   "cell_type": "code",
   "execution_count": 25,
   "metadata": {},
   "outputs": [
    {
     "data": {
      "text/html": [
       "<div>\n",
       "<style scoped>\n",
       "    .dataframe tbody tr th:only-of-type {\n",
       "        vertical-align: middle;\n",
       "    }\n",
       "\n",
       "    .dataframe tbody tr th {\n",
       "        vertical-align: top;\n",
       "    }\n",
       "\n",
       "    .dataframe thead th {\n",
       "        text-align: right;\n",
       "    }\n",
       "</style>\n",
       "<table border=\"1\" class=\"dataframe\">\n",
       "  <thead>\n",
       "    <tr style=\"text-align: right;\">\n",
       "      <th></th>\n",
       "      <th>a_rad</th>\n",
       "      <th>a_deg</th>\n",
       "      <th>V</th>\n",
       "    </tr>\n",
       "  </thead>\n",
       "  <tbody>\n",
       "    <tr>\n",
       "      <th>count</th>\n",
       "      <td>100.000000</td>\n",
       "      <td>100.000000</td>\n",
       "      <td>100.000000</td>\n",
       "    </tr>\n",
       "    <tr>\n",
       "      <th>mean</th>\n",
       "      <td>0.261826</td>\n",
       "      <td>15.001503</td>\n",
       "      <td>1294.223012</td>\n",
       "    </tr>\n",
       "    <tr>\n",
       "      <th>std</th>\n",
       "      <td>0.002704</td>\n",
       "      <td>0.154909</td>\n",
       "      <td>13.287939</td>\n",
       "    </tr>\n",
       "    <tr>\n",
       "      <th>min</th>\n",
       "      <td>0.254536</td>\n",
       "      <td>14.583819</td>\n",
       "      <td>1258.386894</td>\n",
       "    </tr>\n",
       "    <tr>\n",
       "      <th>25%</th>\n",
       "      <td>0.259777</td>\n",
       "      <td>14.884144</td>\n",
       "      <td>1284.156555</td>\n",
       "    </tr>\n",
       "    <tr>\n",
       "      <th>50%</th>\n",
       "      <td>0.261653</td>\n",
       "      <td>14.991606</td>\n",
       "      <td>1293.375257</td>\n",
       "    </tr>\n",
       "    <tr>\n",
       "      <th>75%</th>\n",
       "      <td>0.263953</td>\n",
       "      <td>15.123369</td>\n",
       "      <td>1304.677113</td>\n",
       "    </tr>\n",
       "    <tr>\n",
       "      <th>max</th>\n",
       "      <td>0.268410</td>\n",
       "      <td>15.378778</td>\n",
       "      <td>1326.579604</td>\n",
       "    </tr>\n",
       "  </tbody>\n",
       "</table>\n",
       "</div>"
      ],
      "text/plain": [
       "            a_rad       a_deg            V\n",
       "count  100.000000  100.000000   100.000000\n",
       "mean     0.261826   15.001503  1294.223012\n",
       "std      0.002704    0.154909    13.287939\n",
       "min      0.254536   14.583819  1258.386894\n",
       "25%      0.259777   14.884144  1284.156555\n",
       "50%      0.261653   14.991606  1293.375257\n",
       "75%      0.263953   15.123369  1304.677113\n",
       "max      0.268410   15.378778  1326.579604"
      ]
     },
     "execution_count": 25,
     "metadata": {},
     "output_type": "execute_result"
    }
   ],
   "source": [
    "impulse_exp_df.describe()"
   ]
  },
  {
   "cell_type": "markdown",
   "metadata": {},
   "source": [
    "<center>\n",
    "    <h3>4. Сравнение моделей <i>2</i> и <i>3</i></h3>\n",
    "</center>"
   ]
  },
  {
   "cell_type": "code",
   "execution_count": 31,
   "metadata": {},
   "outputs": [
    {
     "name": "stdout",
     "output_type": "stream",
     "text": [
      "ЗСЭ\n"
     ]
    },
    {
     "data": {
      "image/png": "[encoded data removed]",
      "text/plain": [
       "<Figure size 432x288 with 1 Axes>"
      ]
     },
     "metadata": {
      "needs_background": "light"
     },
     "output_type": "display_data"
    }
   ],
   "source": [
    "print('ЗСЭ')\n",
    "sns.distplot(energy_exp_df.V, color='c');"
   ]
  },
  {
   "cell_type": "code",
   "execution_count": 32,
   "metadata": {},
   "outputs": [
    {
     "name": "stdout",
     "output_type": "stream",
     "text": [
      "ЗСЭ + ЗСИ\n"
     ]
    },
    {
     "data": {
      "image/png": "[encoded data removed]",
      "text/plain": [
       "<Figure size 432x288 with 1 Axes>"
      ]
     },
     "metadata": {
      "needs_background": "light"
     },
     "output_type": "display_data"
    }
   ],
   "source": [
    "print('ЗСЭ + ЗСИ')\n",
    "sns.distplot(impulse_exp_df.V, color='m');"
   ]
  },
  {
   "cell_type": "code",
   "execution_count": 33,
   "metadata": {},
   "outputs": [
    {
     "data": {
      "text/plain": [
       "22.39201955566156"
      ]
     },
     "execution_count": 33,
     "metadata": {},
     "output_type": "execute_result"
    }
   ],
   "source": [
    "impulse_exp_df.V.mean()/energy_exp_df.V.mean()"
   ]
  },
  {
   "cell_type": "markdown",
   "metadata": {},
   "source": [
    "Результаты отличаются примерно в 22 раза\n",
    "\n",
    "Третья модель считается более точной, потому что в ней мы учитываем Закон Сохранения Энергии"
   ]
  }
 ],
 "metadata": {
  "kernelspec": {
   "display_name": "Python 3",
   "language": "python",
   "name": "python3"
  },
  "language_info": {
   "codemirror_mode": {
    "name": "ipython",
    "version": 3
   },
   "file_extension": ".py",
   "mimetype": "text/x-python",
   "name": "python",
   "nbconvert_exporter": "python",
   "pygments_lexer": "ipython3",
   "version": "3.7.3"
  }
 },
 "nbformat": 4,
 "nbformat_minor": 2
}
