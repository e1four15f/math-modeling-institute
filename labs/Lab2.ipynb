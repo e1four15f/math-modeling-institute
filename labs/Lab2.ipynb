{
 "cells": [
  {
   "cell_type": "code",
   "execution_count": 4,
   "metadata": {},
   "outputs": [],
   "source": [
    "import numpy as np\n",
    "import pandas as pd\n",
    "import matplotlib.pyplot as plt\n",
    "import seaborn as sns\n",
    "\n",
    "sns.set(style=\"darkgrid\")\n",
    "\n",
    "import warnings\n",
    "warnings.filterwarnings('ignore')"
   ]
  },
  {
   "cell_type": "markdown",
   "metadata": {},
   "source": [
    "<h3>Кармазин Василий ПИН-43</h3>\n",
    "<br><br>\n",
    "<center>\n",
    "    <h1>Лабораторная работа №2</h1>\n",
    "    <h2>Моделирование проблем ракетостроения</h2>\n",
    "</center>"
   ]
  },
  {
   "cell_type": "markdown",
   "metadata": {},
   "source": [
    "<h3>Цель работы:</h3>\n",
    "Составить модель реактивного движения многоступенчатой ракеты. Показать невозможность преодоления земного притяжения при использовании одноступенчатой ракеты."
   ]
  },
  {
   "cell_type": "markdown",
   "metadata": {},
   "source": [
    "<center>\n",
    "    <h3>1. Одноступенчатая ракета.</h3>\n",
    "</center>"
   ]
  },
  {
   "cell_type": "markdown",
   "metadata": {},
   "source": [
    "<h4>Описание модели:</h4>\n",
    "Одноступенчатая ракета массы $m_0$\n",
    "\n",
    "В данной модели мы предполагаем, что:\n",
    "- Нет сопротивления воздуха\n",
    "- Действие внешних сил на ракету незначительно\n",
    "- Скорость сгорания топлива постоянна\n",
    "- Продукты сгорания покидают сопла с постоянной скоростью"
   ]
  },
  {
   "cell_type": "markdown",
   "metadata": {},
   "source": [
    "<h4>Дано:</h4>\n",
    "\n",
    "- $u = 3\\ км/с$, скорость истечения сгорающего топлива\n",
    "- $m_0 = 100\\ т = 100000\\ кг$, масса ракеты на старте\n",
    "- $v_1 = 7.844\\ м/с$, первая космическая скорость"
   ]
  },
  {
   "cell_type": "code",
   "execution_count": 64,
   "metadata": {},
   "outputs": [],
   "source": [
    "u = 3\n",
    "m_0 = 100\n",
    "lamb = 0.1\n",
    "v_1 = 7.844"
   ]
  },
  {
   "cell_type": "markdown",
   "metadata": {},
   "source": [
    "<h4>Построение модели:</h4>\n",
    "\n",
    "Максимальную скорость ракеты можно расчитать по формуле Циолковского\n",
    "\n",
    "<center>\n",
    "    $v=u\\ln{\\left(\\dfrac{M_1}{M_2}\\right)}$\n",
    "</center>\n",
    "\n",
    "- $M_1$ - начальная масса ($M_1 = m_p + m_s + m_t = m_0$)\n",
    "- $M_2$ - конечная масса ($M_2 = m_p + m_s = m_0 - m_t$)\n",
    "- $u$ - скорость истечения сгорающего топлива\n",
    "- $m_p$ - полезная нагрузка\n",
    "- $m_s$ - структурная масса\n",
    "- $m_t$ - масса топлива ракеты\n",
    "\n",
    "<center>\n",
    "    $v=u\\ln{\\left(\\dfrac{m_p + m_s + m_t}{m_p + m_s}\\right)}=\n",
    "    u\\ln{\\left(\\dfrac{m_0}{m_0 - m_t}\\right)}$\n",
    "</center>\n",
    "\n",
    "Найдём структурную масс ракеты, всю отсальную массу можно считать за топливом\n",
    "\n",
    "<center>\n",
    "    $\\lambda=\\dfrac{m_s}{m_0 - m_p}$\n",
    "</center>\n",
    "\n",
    "При $m_p = 0$, получаем\n",
    "\n",
    "<center>\n",
    "    $m_s=\\lambda m_0$\n",
    "</center>"
   ]
  },
  {
   "cell_type": "code",
   "execution_count": 65,
   "metadata": {},
   "outputs": [],
   "source": [
    "m_s = lamb*m_0\n",
    "\n",
    "def M_1():\n",
    "    return m_0\n",
    "\n",
    "def M_2(m_t):\n",
    "    return m_0 - m_t\n",
    "    \n",
    "def V(m_t):\n",
    "    return u*np.log(M_1()/M_2(m_t))"
   ]
  },
  {
   "cell_type": "markdown",
   "metadata": {},
   "source": [
    "<h4>Проверка модели:</h4>\n",
    "\n",
    "Построим график зависимости скорости ракеты от структурной массы"
   ]
  },
  {
   "cell_type": "code",
   "execution_count": 67,
   "metadata": {},
   "outputs": [
    {
     "data": {
      "image/png": "[encoded data removed]",
      "text/plain": [
       "<Figure size 864x576 with 1 Axes>"
      ]
     },
     "metadata": {
      "needs_background": "light"
     },
     "output_type": "display_data"
    }
   ],
   "source": [
    "m_ts = np.linspace(0, m_0 - m_s)\n",
    "\n",
    "plt.figure(figsize=(12,8))\n",
    "plt.plot(m_ts, V(m_ts), linewidth=4);\n",
    "plt.plot(m_ts, [v_1]*len(m_ts), linewidth=4)\n",
    "plt.xlabel('Колличество сгоревшего топлива, т')\n",
    "plt.ylabel('Скорость ракеты, км/с');"
   ]
  },
  {
   "cell_type": "markdown",
   "metadata": {},
   "source": [
    "Одноступенчатая ракета, с такими параметрами не может достигнуть первой космической скорости"
   ]
  },
  {
   "cell_type": "markdown",
   "metadata": {},
   "source": [
    "<center>\n",
    "    <h3>2. Многоступенчатая ракета.</h3>\n",
    "</center>"
   ]
  },
  {
   "cell_type": "markdown",
   "metadata": {},
   "source": [
    "<h4>Описание модели:</h4>\n",
    "Многоступенчатая ракета, с тремя ступенями массы $m_0=m_p+m_1+m_2+m_3$\n",
    "\n",
    "В данной модели мы предполагаем, что:\n",
    "- Нет сопротивления воздуха\n",
    "- Действие внешних сил на ракету незначительно\n",
    "- Скорость сгорания топлива постоянна\n",
    "- Продукты сгорания покидают сопла с постоянной скоростью"
   ]
  },
  {
   "cell_type": "markdown",
   "metadata": {},
   "source": [
    "<h4>Дано:</h4>\n",
    "\n",
    "- $u = [2.25, 2.8, 2.8]\\ км/с$, скорость истечения сгорающего топлива для $i$-го модуля\n",
    "- $m_t = 4800 + 700 + 51.5\\ т = 5751.5\\ т$, масса топлива 3-х модулей\n",
    "- $m_s = 700 + 70 + 22\\ т = 792\\ т$, сухой вес 3-х модулей\n",
    "- $m_p = 56.5\\ т $, полезная нагрузка\n",
    "- $m_0 = m_t + m_p + m_s = 6400\\ т$, масса ракеты на старте\n",
    "- $v_1 = 7.844\\ м/с$, первая космическая скорость"
   ]
  },
  {
   "cell_type": "code",
   "execution_count": 359,
   "metadata": {},
   "outputs": [],
   "source": [
    "u = [2.25, 2.8, 2.8]\n",
    "m_p = 56.5\n",
    "v_1 = 7.844"
   ]
  },
  {
   "cell_type": "markdown",
   "metadata": {},
   "source": [
    "<h4>Построение модели:</h4>\n",
    "\n",
    "Формула Циолковского для многоступенчатой ракеты\n",
    "<center>\n",
    "$V=\\sum _{i=1}^{N}u_{i}\\cdot \\ln \\left({\\frac {M_{p}+{\\sum _{j=i}^{N}}M_{1j}}{M_{p}+M_{2i}-M_{1i}+{\\sum _{j=i}^{N}}M_{1j}}}\\right)$\n",
    "</center>\n",
    "\n",
    "- $M_{1i}$ — масса заправленной $i$-й ступени ракеты\n",
    "- $M_{2i}$ — масса $i$-й ступени без топлива (структурная масса)\n",
    "- $u_{i}$ — удельный импульс двигателя $i$-й ступени\n",
    "- $M_{p}$ — масса полезной нагрузки\n",
    "- $N$ — число ступеней ракеты."
   ]
  },
  {
   "cell_type": "markdown",
   "metadata": {},
   "source": [
    "Будем рассмтривать трёхступенчатую ракету предложенную фон Брауном\n",
    "\n",
    "http://www.astronaut.ru/bookcase/books/ley/text/146.htm\n",
    "\n",
    "С данными параметрами\n",
    "\n",
    "| Ступень | $M_1$ | $M_2$ | $M_t$ |\n",
    "| --- | --- | --- | --- |\n",
    "| Первая ступень | 5500 | 700 | 4800 |\n",
    "| Вторая ступень | 770 | 70 | 700 |\n",
    "| Третья ступень | 73.5 | 22 | 51.5 |"
   ]
  },
  {
   "cell_type": "code",
   "execution_count": 384,
   "metadata": {},
   "outputs": [],
   "source": [
    "M = np.array([[5500, 700],\n",
    "              [770, 70],\n",
    "              [73.5, 22]])\n",
    "M_t = [4800, 700, 51.5]"
   ]
  },
  {
   "cell_type": "markdown",
   "metadata": {},
   "source": [
    "Для 3-х ступенчатой ракеты получим\n",
    "<center>\n",
    "$V=\\sum _{i=1}^{3}u_{i}\\cdot \\ln \\left({\\frac {M_{p}+{\\sum _{j=i}^{3}}M_{1j}}{M_{p}+M_{2i}-M_{1i}+{\\sum _{j=i}^{3}}M_{1j}}}\\right)$\n",
    "</center>\n",
    "\n",
    "Введём сокращения, пусть\n",
    "\n",
    "$ М_{i_{all}} = M_p + \\sum_{j=i}^{3}M_{1j}$, общая масса до $i$-й ступени ракеты\n",
    "\n",
    "$\\delta M_i = M_{2i}-M_{1i}$, масса топлива $i$-й ступени\n",
    "\n",
    "Тогда получаем \n",
    "\n",
    "<center>\n",
    "$V=\\sum _{i=1}^{3}u_{i}\\cdot \\ln \\left({\\frac {М_{1_{all}}}{\\delta M_i+М_{1_{all}}}}\\right)$\n",
    "</center>"
   ]
  },
  {
   "cell_type": "code",
   "execution_count": 408,
   "metadata": {},
   "outputs": [],
   "source": [
    "def M_all(i):\n",
    "    return m_p + sum(M[i:,0])\n",
    "\n",
    "def one_V(m_t, i):\n",
    "    return u[i]*np.log(M_all(i)/(M_all(i) - m_t))\n",
    "\n",
    "def V(m_t):\n",
    "    m_t_splited = []\n",
    "    for i in range(len(M)):\n",
    "        if m_t < 0:\n",
    "            break\n",
    "        if m_t > M_t[i]:\n",
    "            m_t -= M_t[i]\n",
    "            m_t_splited.append(M_t[i])\n",
    "        else:\n",
    "            m_t_splited.append(m_t)\n",
    "            m_t -= M_t[i]\n",
    "    return sum([one_V(m_t, i) for i, m_t in enumerate(m_t_splited)])"
   ]
  },
  {
   "cell_type": "code",
   "execution_count": 416,
   "metadata": {},
   "outputs": [
    {
     "data": {
      "image/png": "[encoded data removed]",
      "text/plain": [
       "<Figure size 864x576 with 1 Axes>"
      ]
     },
     "metadata": {
      "needs_background": "light"
     },
     "output_type": "display_data"
    }
   ],
   "source": [
    "m_ts = np.linspace(0, sum(M_t))\n",
    "\n",
    "plt.figure(figsize=(12,8))\n",
    "plt.plot(m_ts, [V(i) for i in m_ts], linewidth=4);\n",
    "plt.plot(m_ts, [v_1]*len(m_ts), linewidth=4)\n",
    "\n",
    "for i in range(len(M_t)):\n",
    "    m_val = sum(M_t[:i+1])\n",
    "    plt.plot([m_val], [V(m_val)], linewidth=12, \n",
    "             marker='o',  markersize=12)\n",
    "    \n",
    "plt.xlabel('Колличество сгоревшего топлива, т')\n",
    "plt.ylabel('Скорость ракеты, км/с');"
   ]
  },
  {
   "cell_type": "markdown",
   "metadata": {},
   "source": [
    "Трёхступенчатая ракета данной конфигурации, может выйти на орбиту преодалев первую космическую скорость"
   ]
  }
 ],
 "metadata": {
  "kernelspec": {
   "display_name": "Python 3",
   "language": "python",
   "name": "python3"
  },
  "language_info": {
   "codemirror_mode": {
    "name": "ipython",
    "version": 3
   },
   "file_extension": ".py",
   "mimetype": "text/x-python",
   "name": "python",
   "nbconvert_exporter": "python",
   "pygments_lexer": "ipython3",
   "version": "3.7.3"
  }
 },
 "nbformat": 4,
 "nbformat_minor": 2
}
